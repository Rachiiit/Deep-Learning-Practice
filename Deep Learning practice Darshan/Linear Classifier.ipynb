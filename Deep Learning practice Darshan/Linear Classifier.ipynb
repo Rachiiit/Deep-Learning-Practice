{
 "cells": [
  {
   "cell_type": "code",
   "execution_count": 8,
   "id": "068a9fb5",
   "metadata": {},
   "outputs": [],
   "source": [
    "import tensorflow as tf"
   ]
  },
  {
   "cell_type": "code",
   "execution_count": 9,
   "id": "4db5d205",
   "metadata": {},
   "outputs": [
    {
     "data": {
      "text/plain": [
       "'2.8.0'"
      ]
     },
     "execution_count": 9,
     "metadata": {},
     "output_type": "execute_result"
    }
   ],
   "source": [
    "tf.__version__"
   ]
  },
  {
   "cell_type": "code",
   "execution_count": 10,
   "id": "d5d4e356",
   "metadata": {},
   "outputs": [],
   "source": [
    "from sklearn.datasets import load_breast_cancer"
   ]
  },
  {
   "cell_type": "code",
   "execution_count": 19,
   "id": "eb78ea1d",
   "metadata": {},
   "outputs": [],
   "source": [
    "df=load_breast_cancer()"
   ]
  },
  {
   "cell_type": "code",
   "execution_count": 20,
   "id": "ca3a0143",
   "metadata": {},
   "outputs": [
    {
     "data": {
      "text/plain": [
       "sklearn.utils.Bunch"
      ]
     },
     "execution_count": 20,
     "metadata": {},
     "output_type": "execute_result"
    }
   ],
   "source": [
    "type(df)"
   ]
  },
  {
   "cell_type": "code",
   "execution_count": 21,
   "id": "826ffac9",
   "metadata": {},
   "outputs": [
    {
     "data": {
      "text/plain": [
       "{'data': array([[1.799e+01, 1.038e+01, 1.228e+02, ..., 2.654e-01, 4.601e-01,\n",
       "         1.189e-01],\n",
       "        [2.057e+01, 1.777e+01, 1.329e+02, ..., 1.860e-01, 2.750e-01,\n",
       "         8.902e-02],\n",
       "        [1.969e+01, 2.125e+01, 1.300e+02, ..., 2.430e-01, 3.613e-01,\n",
       "         8.758e-02],\n",
       "        ...,\n",
       "        [1.660e+01, 2.808e+01, 1.083e+02, ..., 1.418e-01, 2.218e-01,\n",
       "         7.820e-02],\n",
       "        [2.060e+01, 2.933e+01, 1.401e+02, ..., 2.650e-01, 4.087e-01,\n",
       "         1.240e-01],\n",
       "        [7.760e+00, 2.454e+01, 4.792e+01, ..., 0.000e+00, 2.871e-01,\n",
       "         7.039e-02]]),\n",
       " 'target': array([0, 0, 0, 0, 0, 0, 0, 0, 0, 0, 0, 0, 0, 0, 0, 0, 0, 0, 0, 1, 1, 1,\n",
       "        0, 0, 0, 0, 0, 0, 0, 0, 0, 0, 0, 0, 0, 0, 0, 1, 0, 0, 0, 0, 0, 0,\n",
       "        0, 0, 1, 0, 1, 1, 1, 1, 1, 0, 0, 1, 0, 0, 1, 1, 1, 1, 0, 1, 0, 0,\n",
       "        1, 1, 1, 1, 0, 1, 0, 0, 1, 0, 1, 0, 0, 1, 1, 1, 0, 0, 1, 0, 0, 0,\n",
       "        1, 1, 1, 0, 1, 1, 0, 0, 1, 1, 1, 0, 0, 1, 1, 1, 1, 0, 1, 1, 0, 1,\n",
       "        1, 1, 1, 1, 1, 1, 1, 0, 0, 0, 1, 0, 0, 1, 1, 1, 0, 0, 1, 0, 1, 0,\n",
       "        0, 1, 0, 0, 1, 1, 0, 1, 1, 0, 1, 1, 1, 1, 0, 1, 1, 1, 1, 1, 1, 1,\n",
       "        1, 1, 0, 1, 1, 1, 1, 0, 0, 1, 0, 1, 1, 0, 0, 1, 1, 0, 0, 1, 1, 1,\n",
       "        1, 0, 1, 1, 0, 0, 0, 1, 0, 1, 0, 1, 1, 1, 0, 1, 1, 0, 0, 1, 0, 0,\n",
       "        0, 0, 1, 0, 0, 0, 1, 0, 1, 0, 1, 1, 0, 1, 0, 0, 0, 0, 1, 1, 0, 0,\n",
       "        1, 1, 1, 0, 1, 1, 1, 1, 1, 0, 0, 1, 1, 0, 1, 1, 0, 0, 1, 0, 1, 1,\n",
       "        1, 1, 0, 1, 1, 1, 1, 1, 0, 1, 0, 0, 0, 0, 0, 0, 0, 0, 0, 0, 0, 0,\n",
       "        0, 0, 1, 1, 1, 1, 1, 1, 0, 1, 0, 1, 1, 0, 1, 1, 0, 1, 0, 0, 1, 1,\n",
       "        1, 1, 1, 1, 1, 1, 1, 1, 1, 1, 1, 0, 1, 1, 0, 1, 0, 1, 1, 1, 1, 1,\n",
       "        1, 1, 1, 1, 1, 1, 1, 1, 1, 0, 1, 1, 1, 0, 1, 0, 1, 1, 1, 1, 0, 0,\n",
       "        0, 1, 1, 1, 1, 0, 1, 0, 1, 0, 1, 1, 1, 0, 1, 1, 1, 1, 1, 1, 1, 0,\n",
       "        0, 0, 1, 1, 1, 1, 1, 1, 1, 1, 1, 1, 1, 0, 0, 1, 0, 0, 0, 1, 0, 0,\n",
       "        1, 1, 1, 1, 1, 0, 1, 1, 1, 1, 1, 0, 1, 1, 1, 0, 1, 1, 0, 0, 1, 1,\n",
       "        1, 1, 1, 1, 0, 1, 1, 1, 1, 1, 1, 1, 0, 1, 1, 1, 1, 1, 0, 1, 1, 0,\n",
       "        1, 1, 1, 1, 1, 1, 1, 1, 1, 1, 1, 1, 0, 1, 0, 0, 1, 0, 1, 1, 1, 1,\n",
       "        1, 0, 1, 1, 0, 1, 0, 1, 1, 0, 1, 0, 1, 1, 1, 1, 1, 1, 1, 1, 0, 0,\n",
       "        1, 1, 1, 1, 1, 1, 0, 1, 1, 1, 1, 1, 1, 1, 1, 1, 1, 0, 1, 1, 1, 1,\n",
       "        1, 1, 1, 0, 1, 0, 1, 1, 0, 1, 1, 1, 1, 1, 0, 0, 1, 0, 1, 0, 1, 1,\n",
       "        1, 1, 1, 0, 1, 1, 0, 1, 0, 1, 0, 0, 1, 1, 1, 0, 1, 1, 1, 1, 1, 1,\n",
       "        1, 1, 1, 1, 1, 0, 1, 0, 0, 1, 1, 1, 1, 1, 1, 1, 1, 1, 1, 1, 1, 1,\n",
       "        1, 1, 1, 1, 1, 1, 1, 1, 1, 1, 1, 1, 0, 0, 0, 0, 0, 0, 1]),\n",
       " 'frame': None,\n",
       " 'target_names': array(['malignant', 'benign'], dtype='<U9'),\n",
       " 'DESCR': '.. _breast_cancer_dataset:\\n\\nBreast cancer wisconsin (diagnostic) dataset\\n--------------------------------------------\\n\\n**Data Set Characteristics:**\\n\\n    :Number of Instances: 569\\n\\n    :Number of Attributes: 30 numeric, predictive attributes and the class\\n\\n    :Attribute Information:\\n        - radius (mean of distances from center to points on the perimeter)\\n        - texture (standard deviation of gray-scale values)\\n        - perimeter\\n        - area\\n        - smoothness (local variation in radius lengths)\\n        - compactness (perimeter^2 / area - 1.0)\\n        - concavity (severity of concave portions of the contour)\\n        - concave points (number of concave portions of the contour)\\n        - symmetry\\n        - fractal dimension (\"coastline approximation\" - 1)\\n\\n        The mean, standard error, and \"worst\" or largest (mean of the three\\n        worst/largest values) of these features were computed for each image,\\n        resulting in 30 features.  For instance, field 0 is Mean Radius, field\\n        10 is Radius SE, field 20 is Worst Radius.\\n\\n        - class:\\n                - WDBC-Malignant\\n                - WDBC-Benign\\n\\n    :Summary Statistics:\\n\\n    ===================================== ====== ======\\n                                           Min    Max\\n    ===================================== ====== ======\\n    radius (mean):                        6.981  28.11\\n    texture (mean):                       9.71   39.28\\n    perimeter (mean):                     43.79  188.5\\n    area (mean):                          143.5  2501.0\\n    smoothness (mean):                    0.053  0.163\\n    compactness (mean):                   0.019  0.345\\n    concavity (mean):                     0.0    0.427\\n    concave points (mean):                0.0    0.201\\n    symmetry (mean):                      0.106  0.304\\n    fractal dimension (mean):             0.05   0.097\\n    radius (standard error):              0.112  2.873\\n    texture (standard error):             0.36   4.885\\n    perimeter (standard error):           0.757  21.98\\n    area (standard error):                6.802  542.2\\n    smoothness (standard error):          0.002  0.031\\n    compactness (standard error):         0.002  0.135\\n    concavity (standard error):           0.0    0.396\\n    concave points (standard error):      0.0    0.053\\n    symmetry (standard error):            0.008  0.079\\n    fractal dimension (standard error):   0.001  0.03\\n    radius (worst):                       7.93   36.04\\n    texture (worst):                      12.02  49.54\\n    perimeter (worst):                    50.41  251.2\\n    area (worst):                         185.2  4254.0\\n    smoothness (worst):                   0.071  0.223\\n    compactness (worst):                  0.027  1.058\\n    concavity (worst):                    0.0    1.252\\n    concave points (worst):               0.0    0.291\\n    symmetry (worst):                     0.156  0.664\\n    fractal dimension (worst):            0.055  0.208\\n    ===================================== ====== ======\\n\\n    :Missing Attribute Values: None\\n\\n    :Class Distribution: 212 - Malignant, 357 - Benign\\n\\n    :Creator:  Dr. William H. Wolberg, W. Nick Street, Olvi L. Mangasarian\\n\\n    :Donor: Nick Street\\n\\n    :Date: November, 1995\\n\\nThis is a copy of UCI ML Breast Cancer Wisconsin (Diagnostic) datasets.\\nhttps://goo.gl/U2Uwz2\\n\\nFeatures are computed from a digitized image of a fine needle\\naspirate (FNA) of a breast mass.  They describe\\ncharacteristics of the cell nuclei present in the image.\\n\\nSeparating plane described above was obtained using\\nMultisurface Method-Tree (MSM-T) [K. P. Bennett, \"Decision Tree\\nConstruction Via Linear Programming.\" Proceedings of the 4th\\nMidwest Artificial Intelligence and Cognitive Science Society,\\npp. 97-101, 1992], a classification method which uses linear\\nprogramming to construct a decision tree.  Relevant features\\nwere selected using an exhaustive search in the space of 1-4\\nfeatures and 1-3 separating planes.\\n\\nThe actual linear program used to obtain the separating plane\\nin the 3-dimensional space is that described in:\\n[K. P. Bennett and O. L. Mangasarian: \"Robust Linear\\nProgramming Discrimination of Two Linearly Inseparable Sets\",\\nOptimization Methods and Software 1, 1992, 23-34].\\n\\nThis database is also available through the UW CS ftp server:\\n\\nftp ftp.cs.wisc.edu\\ncd math-prog/cpo-dataset/machine-learn/WDBC/\\n\\n.. topic:: References\\n\\n   - W.N. Street, W.H. Wolberg and O.L. Mangasarian. Nuclear feature extraction \\n     for breast tumor diagnosis. IS&T/SPIE 1993 International Symposium on \\n     Electronic Imaging: Science and Technology, volume 1905, pages 861-870,\\n     San Jose, CA, 1993.\\n   - O.L. Mangasarian, W.N. Street and W.H. Wolberg. Breast cancer diagnosis and \\n     prognosis via linear programming. Operations Research, 43(4), pages 570-577, \\n     July-August 1995.\\n   - W.H. Wolberg, W.N. Street, and O.L. Mangasarian. Machine learning techniques\\n     to diagnose breast cancer from fine-needle aspirates. Cancer Letters 77 (1994) \\n     163-171.',\n",
       " 'feature_names': array(['mean radius', 'mean texture', 'mean perimeter', 'mean area',\n",
       "        'mean smoothness', 'mean compactness', 'mean concavity',\n",
       "        'mean concave points', 'mean symmetry', 'mean fractal dimension',\n",
       "        'radius error', 'texture error', 'perimeter error', 'area error',\n",
       "        'smoothness error', 'compactness error', 'concavity error',\n",
       "        'concave points error', 'symmetry error',\n",
       "        'fractal dimension error', 'worst radius', 'worst texture',\n",
       "        'worst perimeter', 'worst area', 'worst smoothness',\n",
       "        'worst compactness', 'worst concavity', 'worst concave points',\n",
       "        'worst symmetry', 'worst fractal dimension'], dtype='<U23'),\n",
       " 'filename': 'breast_cancer.csv',\n",
       " 'data_module': 'sklearn.datasets.data'}"
      ]
     },
     "execution_count": 21,
     "metadata": {},
     "output_type": "execute_result"
    }
   ],
   "source": [
    "df"
   ]
  },
  {
   "cell_type": "code",
   "execution_count": 24,
   "id": "66de0b2b",
   "metadata": {},
   "outputs": [
    {
     "data": {
      "text/plain": [
       "(569, 30)"
      ]
     },
     "execution_count": 24,
     "metadata": {},
     "output_type": "execute_result"
    }
   ],
   "source": [
    "df.data.shape"
   ]
  },
  {
   "cell_type": "code",
   "execution_count": 25,
   "id": "1fb09fd3",
   "metadata": {},
   "outputs": [
    {
     "data": {
      "text/plain": [
       "dict_keys(['data', 'target', 'frame', 'target_names', 'DESCR', 'feature_names', 'filename', 'data_module'])"
      ]
     },
     "execution_count": 25,
     "metadata": {},
     "output_type": "execute_result"
    }
   ],
   "source": [
    "df.keys()"
   ]
  },
  {
   "cell_type": "code",
   "execution_count": 29,
   "id": "8d4af983",
   "metadata": {},
   "outputs": [],
   "source": [
    "df.frame"
   ]
  },
  {
   "cell_type": "code",
   "execution_count": 30,
   "id": "80ce41cd",
   "metadata": {},
   "outputs": [
    {
     "data": {
      "text/plain": [
       "array([0, 0, 0, 0, 0, 0, 0, 0, 0, 0, 0, 0, 0, 0, 0, 0, 0, 0, 0, 1, 1, 1,\n",
       "       0, 0, 0, 0, 0, 0, 0, 0, 0, 0, 0, 0, 0, 0, 0, 1, 0, 0, 0, 0, 0, 0,\n",
       "       0, 0, 1, 0, 1, 1, 1, 1, 1, 0, 0, 1, 0, 0, 1, 1, 1, 1, 0, 1, 0, 0,\n",
       "       1, 1, 1, 1, 0, 1, 0, 0, 1, 0, 1, 0, 0, 1, 1, 1, 0, 0, 1, 0, 0, 0,\n",
       "       1, 1, 1, 0, 1, 1, 0, 0, 1, 1, 1, 0, 0, 1, 1, 1, 1, 0, 1, 1, 0, 1,\n",
       "       1, 1, 1, 1, 1, 1, 1, 0, 0, 0, 1, 0, 0, 1, 1, 1, 0, 0, 1, 0, 1, 0,\n",
       "       0, 1, 0, 0, 1, 1, 0, 1, 1, 0, 1, 1, 1, 1, 0, 1, 1, 1, 1, 1, 1, 1,\n",
       "       1, 1, 0, 1, 1, 1, 1, 0, 0, 1, 0, 1, 1, 0, 0, 1, 1, 0, 0, 1, 1, 1,\n",
       "       1, 0, 1, 1, 0, 0, 0, 1, 0, 1, 0, 1, 1, 1, 0, 1, 1, 0, 0, 1, 0, 0,\n",
       "       0, 0, 1, 0, 0, 0, 1, 0, 1, 0, 1, 1, 0, 1, 0, 0, 0, 0, 1, 1, 0, 0,\n",
       "       1, 1, 1, 0, 1, 1, 1, 1, 1, 0, 0, 1, 1, 0, 1, 1, 0, 0, 1, 0, 1, 1,\n",
       "       1, 1, 0, 1, 1, 1, 1, 1, 0, 1, 0, 0, 0, 0, 0, 0, 0, 0, 0, 0, 0, 0,\n",
       "       0, 0, 1, 1, 1, 1, 1, 1, 0, 1, 0, 1, 1, 0, 1, 1, 0, 1, 0, 0, 1, 1,\n",
       "       1, 1, 1, 1, 1, 1, 1, 1, 1, 1, 1, 0, 1, 1, 0, 1, 0, 1, 1, 1, 1, 1,\n",
       "       1, 1, 1, 1, 1, 1, 1, 1, 1, 0, 1, 1, 1, 0, 1, 0, 1, 1, 1, 1, 0, 0,\n",
       "       0, 1, 1, 1, 1, 0, 1, 0, 1, 0, 1, 1, 1, 0, 1, 1, 1, 1, 1, 1, 1, 0,\n",
       "       0, 0, 1, 1, 1, 1, 1, 1, 1, 1, 1, 1, 1, 0, 0, 1, 0, 0, 0, 1, 0, 0,\n",
       "       1, 1, 1, 1, 1, 0, 1, 1, 1, 1, 1, 0, 1, 1, 1, 0, 1, 1, 0, 0, 1, 1,\n",
       "       1, 1, 1, 1, 0, 1, 1, 1, 1, 1, 1, 1, 0, 1, 1, 1, 1, 1, 0, 1, 1, 0,\n",
       "       1, 1, 1, 1, 1, 1, 1, 1, 1, 1, 1, 1, 0, 1, 0, 0, 1, 0, 1, 1, 1, 1,\n",
       "       1, 0, 1, 1, 0, 1, 0, 1, 1, 0, 1, 0, 1, 1, 1, 1, 1, 1, 1, 1, 0, 0,\n",
       "       1, 1, 1, 1, 1, 1, 0, 1, 1, 1, 1, 1, 1, 1, 1, 1, 1, 0, 1, 1, 1, 1,\n",
       "       1, 1, 1, 0, 1, 0, 1, 1, 0, 1, 1, 1, 1, 1, 0, 0, 1, 0, 1, 0, 1, 1,\n",
       "       1, 1, 1, 0, 1, 1, 0, 1, 0, 1, 0, 0, 1, 1, 1, 0, 1, 1, 1, 1, 1, 1,\n",
       "       1, 1, 1, 1, 1, 0, 1, 0, 0, 1, 1, 1, 1, 1, 1, 1, 1, 1, 1, 1, 1, 1,\n",
       "       1, 1, 1, 1, 1, 1, 1, 1, 1, 1, 1, 1, 0, 0, 0, 0, 0, 0, 1])"
      ]
     },
     "execution_count": 30,
     "metadata": {},
     "output_type": "execute_result"
    }
   ],
   "source": [
    "df.target"
   ]
  },
  {
   "cell_type": "code",
   "execution_count": 31,
   "id": "8e68dc73",
   "metadata": {},
   "outputs": [
    {
     "data": {
      "text/plain": [
       "array(['malignant', 'benign'], dtype='<U9')"
      ]
     },
     "execution_count": 31,
     "metadata": {},
     "output_type": "execute_result"
    }
   ],
   "source": [
    "df.target_names"
   ]
  },
  {
   "cell_type": "code",
   "execution_count": 32,
   "id": "1e81587e",
   "metadata": {},
   "outputs": [],
   "source": [
    "from sklearn.model_selection import train_test_split"
   ]
  },
  {
   "cell_type": "code",
   "execution_count": 33,
   "id": "8e976e81",
   "metadata": {},
   "outputs": [
    {
     "ename": "ModuleNotFoundError",
     "evalue": "No module named 'sklearn.model_selection.train_test_split'",
     "output_type": "error",
     "traceback": [
      "\u001b[1;31m---------------------------------------------------------------------------\u001b[0m",
      "\u001b[1;31mModuleNotFoundError\u001b[0m                       Traceback (most recent call last)",
      "\u001b[1;32m~\\AppData\\Local\\Temp/ipykernel_44088/3715803696.py\u001b[0m in \u001b[0;36m<module>\u001b[1;34m\u001b[0m\n\u001b[1;32m----> 1\u001b[1;33m \u001b[1;32mimport\u001b[0m \u001b[0msklearn\u001b[0m\u001b[1;33m.\u001b[0m\u001b[0mmodel_selection\u001b[0m\u001b[1;33m.\u001b[0m\u001b[0mtrain_test_split\u001b[0m\u001b[1;33m\u001b[0m\u001b[1;33m\u001b[0m\u001b[0m\n\u001b[0m",
      "\u001b[1;31mModuleNotFoundError\u001b[0m: No module named 'sklearn.model_selection.train_test_split'"
     ]
    }
   ],
   "source": [
    "import sklearn.model_selection.train_test_split"
   ]
  },
  {
   "cell_type": "code",
   "execution_count": 34,
   "id": "a1d4f5b9",
   "metadata": {},
   "outputs": [
    {
     "data": {
      "text/plain": [
       "array([[1.799e+01, 1.038e+01, 1.228e+02, ..., 2.654e-01, 4.601e-01,\n",
       "        1.189e-01],\n",
       "       [2.057e+01, 1.777e+01, 1.329e+02, ..., 1.860e-01, 2.750e-01,\n",
       "        8.902e-02],\n",
       "       [1.969e+01, 2.125e+01, 1.300e+02, ..., 2.430e-01, 3.613e-01,\n",
       "        8.758e-02],\n",
       "       ...,\n",
       "       [1.660e+01, 2.808e+01, 1.083e+02, ..., 1.418e-01, 2.218e-01,\n",
       "        7.820e-02],\n",
       "       [2.060e+01, 2.933e+01, 1.401e+02, ..., 2.650e-01, 4.087e-01,\n",
       "        1.240e-01],\n",
       "       [7.760e+00, 2.454e+01, 4.792e+01, ..., 0.000e+00, 2.871e-01,\n",
       "        7.039e-02]])"
      ]
     },
     "execution_count": 34,
     "metadata": {},
     "output_type": "execute_result"
    }
   ],
   "source": [
    "df.data"
   ]
  },
  {
   "cell_type": "code",
   "execution_count": 35,
   "id": "4126d190",
   "metadata": {},
   "outputs": [],
   "source": [
    "X_train,X_test,Y_train,Y_test=train_test_split(df.data,df.target,test_size=0.33)"
   ]
  },
  {
   "cell_type": "code",
   "execution_count": 36,
   "id": "be7dce68",
   "metadata": {},
   "outputs": [
    {
     "data": {
      "text/plain": [
       "(381, 30)"
      ]
     },
     "execution_count": 36,
     "metadata": {},
     "output_type": "execute_result"
    }
   ],
   "source": [
    "X_train.shape"
   ]
  },
  {
   "cell_type": "code",
   "execution_count": 37,
   "id": "b5d4a54c",
   "metadata": {},
   "outputs": [],
   "source": [
    "N,D=X_train.shape"
   ]
  },
  {
   "cell_type": "code",
   "execution_count": 38,
   "id": "ca2a1d56",
   "metadata": {},
   "outputs": [],
   "source": [
    "#N = no. of Rows\n",
    "#D = no. of Columns"
   ]
  },
  {
   "cell_type": "code",
   "execution_count": 39,
   "id": "0a908778",
   "metadata": {},
   "outputs": [
    {
     "data": {
      "text/plain": [
       "381"
      ]
     },
     "execution_count": 39,
     "metadata": {},
     "output_type": "execute_result"
    }
   ],
   "source": [
    "N"
   ]
  },
  {
   "cell_type": "code",
   "execution_count": 40,
   "id": "8fd4a27a",
   "metadata": {},
   "outputs": [
    {
     "data": {
      "text/plain": [
       "30"
      ]
     },
     "execution_count": 40,
     "metadata": {},
     "output_type": "execute_result"
    }
   ],
   "source": [
    "D"
   ]
  },
  {
   "cell_type": "code",
   "execution_count": 41,
   "id": "1bfa8040",
   "metadata": {},
   "outputs": [],
   "source": [
    "#Scale the data\n",
    "from sklearn.preprocessing import StandardScaler"
   ]
  },
  {
   "cell_type": "code",
   "execution_count": 47,
   "id": "bb7de7ac",
   "metadata": {},
   "outputs": [],
   "source": [
    "scaler=StandardScaler"
   ]
  },
  {
   "cell_type": "code",
   "execution_count": 44,
   "id": "94c5eae8",
   "metadata": {},
   "outputs": [
    {
     "ename": "TypeError",
     "evalue": "fit_transform() missing 1 required positional argument: 'X'",
     "output_type": "error",
     "traceback": [
      "\u001b[1;31m---------------------------------------------------------------------------\u001b[0m",
      "\u001b[1;31mTypeError\u001b[0m                                 Traceback (most recent call last)",
      "\u001b[1;32m~\\AppData\\Local\\Temp/ipykernel_44088/1382152561.py\u001b[0m in \u001b[0;36m<module>\u001b[1;34m\u001b[0m\n\u001b[1;32m----> 1\u001b[1;33m \u001b[0mX_train\u001b[0m\u001b[1;33m=\u001b[0m\u001b[0mscaler\u001b[0m\u001b[1;33m.\u001b[0m\u001b[0mfit_transform\u001b[0m\u001b[1;33m(\u001b[0m\u001b[0mX_train\u001b[0m\u001b[1;33m)\u001b[0m\u001b[1;33m\u001b[0m\u001b[1;33m\u001b[0m\u001b[0m\n\u001b[0m\u001b[0;32m      2\u001b[0m \u001b[0mX_test\u001b[0m\u001b[1;33m=\u001b[0m\u001b[0mscaler\u001b[0m\u001b[1;33m.\u001b[0m\u001b[0mtransform\u001b[0m\u001b[1;33m(\u001b[0m\u001b[0mX_test\u001b[0m\u001b[1;33m)\u001b[0m\u001b[1;33m\u001b[0m\u001b[1;33m\u001b[0m\u001b[0m\n",
      "\u001b[1;31mTypeError\u001b[0m: fit_transform() missing 1 required positional argument: 'X'"
     ]
    }
   ],
   "source": [
    "X_train=scaler.fit_transform(X_train)\n",
    "X_test=scaler.transform(X_test)"
   ]
  },
  {
   "cell_type": "code",
   "execution_count": 48,
   "id": "0cbe78d4",
   "metadata": {},
   "outputs": [],
   "source": [
    "scaler=StandardScaler()\n",
    "X_train = scaler.fit_transform(X_train)\n",
    "X_test = scaler.transform(X_test)"
   ]
  },
  {
   "cell_type": "code",
   "execution_count": 49,
   "id": "0a0f585b",
   "metadata": {},
   "outputs": [
    {
     "data": {
      "text/plain": [
       "array([[ 0.19880946, -0.68977582,  0.23560392, ...,  0.39770763,\n",
       "        -0.47577432, -0.32647632],\n",
       "       [-0.52094746, -0.68507499, -0.42395813, ...,  0.27285584,\n",
       "         0.56323133,  1.05676502],\n",
       "       [-1.36754455,  0.61470443, -1.3638242 , ..., -1.40046643,\n",
       "        -0.72701594, -0.53496174],\n",
       "       ...,\n",
       "       [ 1.2091852 ,  0.62175568,  1.18650869, ...,  0.83700097,\n",
       "         0.20014667, -0.03751337],\n",
       "       [-0.58884905, -0.96712477, -0.61476987, ..., -0.9392855 ,\n",
       "        -0.36068945, -0.2281749 ],\n",
       "       [ 0.01411712,  0.10466441,  0.03454197, ...,  0.61658361,\n",
       "        -0.26829737,  0.52366888]])"
      ]
     },
     "execution_count": 49,
     "metadata": {},
     "output_type": "execute_result"
    }
   ],
   "source": [
    "X_train"
   ]
  },
  {
   "cell_type": "code",
   "execution_count": 50,
   "id": "3a8a227a",
   "metadata": {},
   "outputs": [
    {
     "data": {
      "text/plain": [
       "array([[-1.33169251,  0.39611585, -1.3204579 , ..., -0.79115887,\n",
       "        -0.00895119,  0.44697218],\n",
       "       [-0.37156395,  0.58649945, -0.24063694, ...,  1.37956677,\n",
       "         2.42241929,  1.26200973],\n",
       "       [ 0.60621903,  2.05785916,  0.57938044, ...,  0.39000073,\n",
       "        -1.0787542 , -0.30433149],\n",
       "       ...,\n",
       "       [-0.44761373, -0.38892272, -0.49768085, ..., -1.23892979,\n",
       "        -1.16466262, -1.2738427 ],\n",
       "       [ 0.29658775, -1.74746251,  0.35072175, ...,  1.0204252 ,\n",
       "         0.53891763,  0.92713678],\n",
       "       [ 1.60844658, -1.17161087,  1.63594129, ...,  0.70906642,\n",
       "        -0.8421008 , -0.3810282 ]])"
      ]
     },
     "execution_count": 50,
     "metadata": {},
     "output_type": "execute_result"
    }
   ],
   "source": [
    "X_test"
   ]
  },
  {
   "cell_type": "code",
   "execution_count": 51,
   "id": "15820388",
   "metadata": {},
   "outputs": [],
   "source": [
    "#Building a model"
   ]
  },
  {
   "cell_type": "code",
   "execution_count": 55,
   "id": "5f3fa6ea",
   "metadata": {},
   "outputs": [],
   "source": [
    "#way 1"
   ]
  },
  {
   "cell_type": "code",
   "execution_count": 54,
   "id": "62338e3b",
   "metadata": {},
   "outputs": [],
   "source": [
    "model=tf.keras.models.Sequential([tf.keras.Input(shape=(D,)),tf.keras.layers.Dense(1,activation='sigmoid')])"
   ]
  },
  {
   "cell_type": "code",
   "execution_count": 56,
   "id": "39037cc3",
   "metadata": {},
   "outputs": [],
   "source": [
    "model.compile(optimizer='adam',loss='binary_crossentropy',metrics=['accuracy'])"
   ]
  },
  {
   "cell_type": "code",
   "execution_count": 57,
   "id": "0eb785db",
   "metadata": {},
   "outputs": [
    {
     "name": "stdout",
     "output_type": "stream",
     "text": [
      "Epoch 1/100\n",
      "12/12 [==============================] - 4s 81ms/step - loss: 1.3214 - accuracy: 0.1549 - val_loss: 1.1868 - val_accuracy: 0.1489\n",
      "Epoch 2/100\n",
      "12/12 [==============================] - 0s 9ms/step - loss: 1.2039 - accuracy: 0.1837 - val_loss: 1.0809 - val_accuracy: 0.1755\n",
      "Epoch 3/100\n",
      "12/12 [==============================] - 0s 8ms/step - loss: 1.0930 - accuracy: 0.2231 - val_loss: 0.9851 - val_accuracy: 0.2394\n",
      "Epoch 4/100\n",
      "12/12 [==============================] - 0s 8ms/step - loss: 0.9946 - accuracy: 0.2651 - val_loss: 0.8978 - val_accuracy: 0.2926\n",
      "Epoch 5/100\n",
      "12/12 [==============================] - 0s 8ms/step - loss: 0.9088 - accuracy: 0.3228 - val_loss: 0.8186 - val_accuracy: 0.3777\n",
      "Epoch 6/100\n",
      "12/12 [==============================] - 0s 8ms/step - loss: 0.8267 - accuracy: 0.3885 - val_loss: 0.7526 - val_accuracy: 0.4734\n",
      "Epoch 7/100\n",
      "12/12 [==============================] - 0s 7ms/step - loss: 0.7588 - accuracy: 0.4751 - val_loss: 0.6944 - val_accuracy: 0.5426\n",
      "Epoch 8/100\n",
      "12/12 [==============================] - 0s 9ms/step - loss: 0.6993 - accuracy: 0.5564 - val_loss: 0.6443 - val_accuracy: 0.6170\n",
      "Epoch 9/100\n",
      "12/12 [==============================] - 0s 7ms/step - loss: 0.6485 - accuracy: 0.6352 - val_loss: 0.6007 - val_accuracy: 0.6809\n",
      "Epoch 10/100\n",
      "12/12 [==============================] - 0s 9ms/step - loss: 0.6042 - accuracy: 0.6798 - val_loss: 0.5628 - val_accuracy: 0.7394\n",
      "Epoch 11/100\n",
      "12/12 [==============================] - 0s 9ms/step - loss: 0.5663 - accuracy: 0.7270 - val_loss: 0.5295 - val_accuracy: 0.8032\n",
      "Epoch 12/100\n",
      "12/12 [==============================] - 0s 8ms/step - loss: 0.5320 - accuracy: 0.7559 - val_loss: 0.5011 - val_accuracy: 0.8245\n",
      "Epoch 13/100\n",
      "12/12 [==============================] - 0s 9ms/step - loss: 0.5028 - accuracy: 0.7953 - val_loss: 0.4755 - val_accuracy: 0.8298\n",
      "Epoch 14/100\n",
      "12/12 [==============================] - 0s 9ms/step - loss: 0.4767 - accuracy: 0.8268 - val_loss: 0.4527 - val_accuracy: 0.8351\n",
      "Epoch 15/100\n",
      "12/12 [==============================] - 0s 8ms/step - loss: 0.4536 - accuracy: 0.8451 - val_loss: 0.4321 - val_accuracy: 0.8404\n",
      "Epoch 16/100\n",
      "12/12 [==============================] - 0s 9ms/step - loss: 0.4324 - accuracy: 0.8583 - val_loss: 0.4139 - val_accuracy: 0.8511\n",
      "Epoch 17/100\n",
      "12/12 [==============================] - 0s 8ms/step - loss: 0.4137 - accuracy: 0.8688 - val_loss: 0.3973 - val_accuracy: 0.8777\n",
      "Epoch 18/100\n",
      "12/12 [==============================] - 0s 10ms/step - loss: 0.3966 - accuracy: 0.8819 - val_loss: 0.3821 - val_accuracy: 0.8883\n",
      "Epoch 19/100\n",
      "12/12 [==============================] - 0s 9ms/step - loss: 0.3810 - accuracy: 0.8898 - val_loss: 0.3684 - val_accuracy: 0.8936\n",
      "Epoch 20/100\n",
      "12/12 [==============================] - 0s 9ms/step - loss: 0.3668 - accuracy: 0.8950 - val_loss: 0.3556 - val_accuracy: 0.9043\n",
      "Epoch 21/100\n",
      "12/12 [==============================] - 0s 9ms/step - loss: 0.3536 - accuracy: 0.8950 - val_loss: 0.3441 - val_accuracy: 0.9096\n",
      "Epoch 22/100\n",
      "12/12 [==============================] - 0s 9ms/step - loss: 0.3417 - accuracy: 0.9055 - val_loss: 0.3334 - val_accuracy: 0.9043\n",
      "Epoch 23/100\n",
      "12/12 [==============================] - 0s 9ms/step - loss: 0.3304 - accuracy: 0.9055 - val_loss: 0.3234 - val_accuracy: 0.9043\n",
      "Epoch 24/100\n",
      "12/12 [==============================] - 0s 12ms/step - loss: 0.3200 - accuracy: 0.9108 - val_loss: 0.3143 - val_accuracy: 0.9043\n",
      "Epoch 25/100\n",
      "12/12 [==============================] - 0s 10ms/step - loss: 0.3106 - accuracy: 0.9108 - val_loss: 0.3055 - val_accuracy: 0.9096\n",
      "Epoch 26/100\n",
      "12/12 [==============================] - 0s 9ms/step - loss: 0.3014 - accuracy: 0.9134 - val_loss: 0.2977 - val_accuracy: 0.9202\n",
      "Epoch 27/100\n",
      "12/12 [==============================] - 0s 9ms/step - loss: 0.2932 - accuracy: 0.9134 - val_loss: 0.2900 - val_accuracy: 0.9255\n",
      "Epoch 28/100\n",
      "12/12 [==============================] - 0s 9ms/step - loss: 0.2854 - accuracy: 0.9213 - val_loss: 0.2828 - val_accuracy: 0.9255\n",
      "Epoch 29/100\n",
      "12/12 [==============================] - 0s 9ms/step - loss: 0.2778 - accuracy: 0.9265 - val_loss: 0.2761 - val_accuracy: 0.9255\n",
      "Epoch 30/100\n",
      "12/12 [==============================] - 0s 9ms/step - loss: 0.2709 - accuracy: 0.9265 - val_loss: 0.2697 - val_accuracy: 0.9255\n",
      "Epoch 31/100\n",
      "12/12 [==============================] - 0s 9ms/step - loss: 0.2643 - accuracy: 0.9265 - val_loss: 0.2637 - val_accuracy: 0.9255\n",
      "Epoch 32/100\n",
      "12/12 [==============================] - 0s 9ms/step - loss: 0.2582 - accuracy: 0.9291 - val_loss: 0.2580 - val_accuracy: 0.9255\n",
      "Epoch 33/100\n",
      "12/12 [==============================] - 0s 9ms/step - loss: 0.2522 - accuracy: 0.9291 - val_loss: 0.2528 - val_accuracy: 0.9309\n",
      "Epoch 34/100\n",
      "12/12 [==============================] - 0s 9ms/step - loss: 0.2466 - accuracy: 0.9318 - val_loss: 0.2478 - val_accuracy: 0.9309\n",
      "Epoch 35/100\n",
      "12/12 [==============================] - 0s 9ms/step - loss: 0.2415 - accuracy: 0.9318 - val_loss: 0.2428 - val_accuracy: 0.9309\n",
      "Epoch 36/100\n",
      "12/12 [==============================] - 0s 10ms/step - loss: 0.2364 - accuracy: 0.9318 - val_loss: 0.2383 - val_accuracy: 0.9309\n",
      "Epoch 37/100\n",
      "12/12 [==============================] - 0s 8ms/step - loss: 0.2316 - accuracy: 0.9344 - val_loss: 0.2338 - val_accuracy: 0.9309\n",
      "Epoch 38/100\n",
      "12/12 [==============================] - 0s 8ms/step - loss: 0.2271 - accuracy: 0.9370 - val_loss: 0.2296 - val_accuracy: 0.9309\n",
      "Epoch 39/100\n",
      "12/12 [==============================] - 0s 13ms/step - loss: 0.2227 - accuracy: 0.9370 - val_loss: 0.2257 - val_accuracy: 0.9309\n",
      "Epoch 40/100\n",
      "12/12 [==============================] - 0s 10ms/step - loss: 0.2186 - accuracy: 0.9370 - val_loss: 0.2218 - val_accuracy: 0.9309\n",
      "Epoch 41/100\n",
      "12/12 [==============================] - 0s 8ms/step - loss: 0.2146 - accuracy: 0.9370 - val_loss: 0.2182 - val_accuracy: 0.9309\n",
      "Epoch 42/100\n",
      "12/12 [==============================] - 0s 11ms/step - loss: 0.2108 - accuracy: 0.9370 - val_loss: 0.2147 - val_accuracy: 0.9309\n",
      "Epoch 43/100\n",
      "12/12 [==============================] - 0s 10ms/step - loss: 0.2072 - accuracy: 0.9370 - val_loss: 0.2113 - val_accuracy: 0.9309\n",
      "Epoch 44/100\n",
      "12/12 [==============================] - 0s 10ms/step - loss: 0.2037 - accuracy: 0.9423 - val_loss: 0.2082 - val_accuracy: 0.9309\n",
      "Epoch 45/100\n",
      "12/12 [==============================] - 0s 8ms/step - loss: 0.2005 - accuracy: 0.9423 - val_loss: 0.2050 - val_accuracy: 0.9309\n",
      "Epoch 46/100\n",
      "12/12 [==============================] - 0s 9ms/step - loss: 0.1973 - accuracy: 0.9423 - val_loss: 0.2020 - val_accuracy: 0.9309\n",
      "Epoch 47/100\n",
      "12/12 [==============================] - 0s 9ms/step - loss: 0.1941 - accuracy: 0.9449 - val_loss: 0.1992 - val_accuracy: 0.9309\n",
      "Epoch 48/100\n",
      "12/12 [==============================] - 0s 9ms/step - loss: 0.1912 - accuracy: 0.9449 - val_loss: 0.1965 - val_accuracy: 0.9309\n",
      "Epoch 49/100\n",
      "12/12 [==============================] - 0s 10ms/step - loss: 0.1884 - accuracy: 0.9449 - val_loss: 0.1938 - val_accuracy: 0.9309\n",
      "Epoch 50/100\n",
      "12/12 [==============================] - 0s 8ms/step - loss: 0.1856 - accuracy: 0.9449 - val_loss: 0.1912 - val_accuracy: 0.9309\n",
      "Epoch 51/100\n",
      "12/12 [==============================] - 0s 10ms/step - loss: 0.1830 - accuracy: 0.9449 - val_loss: 0.1888 - val_accuracy: 0.9309\n",
      "Epoch 52/100\n",
      "12/12 [==============================] - 0s 10ms/step - loss: 0.1804 - accuracy: 0.9475 - val_loss: 0.1865 - val_accuracy: 0.9415\n",
      "Epoch 53/100\n",
      "12/12 [==============================] - 0s 11ms/step - loss: 0.1780 - accuracy: 0.9475 - val_loss: 0.1842 - val_accuracy: 0.9415\n",
      "Epoch 54/100\n",
      "12/12 [==============================] - 0s 12ms/step - loss: 0.1756 - accuracy: 0.9475 - val_loss: 0.1820 - val_accuracy: 0.9362\n",
      "Epoch 55/100\n",
      "12/12 [==============================] - 0s 11ms/step - loss: 0.1733 - accuracy: 0.9501 - val_loss: 0.1799 - val_accuracy: 0.9415\n",
      "Epoch 56/100\n",
      "12/12 [==============================] - 0s 10ms/step - loss: 0.1711 - accuracy: 0.9528 - val_loss: 0.1778 - val_accuracy: 0.9415\n",
      "Epoch 57/100\n",
      "12/12 [==============================] - 0s 10ms/step - loss: 0.1689 - accuracy: 0.9528 - val_loss: 0.1759 - val_accuracy: 0.9415\n",
      "Epoch 58/100\n"
     ]
    },
    {
     "name": "stdout",
     "output_type": "stream",
     "text": [
      "12/12 [==============================] - 0s 10ms/step - loss: 0.1669 - accuracy: 0.9528 - val_loss: 0.1740 - val_accuracy: 0.9415\n",
      "Epoch 59/100\n",
      "12/12 [==============================] - 0s 10ms/step - loss: 0.1649 - accuracy: 0.9554 - val_loss: 0.1721 - val_accuracy: 0.9415\n",
      "Epoch 60/100\n",
      "12/12 [==============================] - 0s 9ms/step - loss: 0.1629 - accuracy: 0.9554 - val_loss: 0.1704 - val_accuracy: 0.9415\n",
      "Epoch 61/100\n",
      "12/12 [==============================] - 0s 10ms/step - loss: 0.1611 - accuracy: 0.9580 - val_loss: 0.1686 - val_accuracy: 0.9415\n",
      "Epoch 62/100\n",
      "12/12 [==============================] - 0s 10ms/step - loss: 0.1593 - accuracy: 0.9580 - val_loss: 0.1670 - val_accuracy: 0.9415\n",
      "Epoch 63/100\n",
      "12/12 [==============================] - 0s 9ms/step - loss: 0.1575 - accuracy: 0.9554 - val_loss: 0.1654 - val_accuracy: 0.9468\n",
      "Epoch 64/100\n",
      "12/12 [==============================] - 0s 9ms/step - loss: 0.1558 - accuracy: 0.9554 - val_loss: 0.1638 - val_accuracy: 0.9468\n",
      "Epoch 65/100\n",
      "12/12 [==============================] - 0s 9ms/step - loss: 0.1541 - accuracy: 0.9554 - val_loss: 0.1622 - val_accuracy: 0.9468\n",
      "Epoch 66/100\n",
      "12/12 [==============================] - 0s 8ms/step - loss: 0.1525 - accuracy: 0.9554 - val_loss: 0.1608 - val_accuracy: 0.9468\n",
      "Epoch 67/100\n",
      "12/12 [==============================] - 0s 10ms/step - loss: 0.1509 - accuracy: 0.9554 - val_loss: 0.1594 - val_accuracy: 0.9468\n",
      "Epoch 68/100\n",
      "12/12 [==============================] - 0s 9ms/step - loss: 0.1494 - accuracy: 0.9580 - val_loss: 0.1580 - val_accuracy: 0.9468\n",
      "Epoch 69/100\n",
      "12/12 [==============================] - 0s 8ms/step - loss: 0.1479 - accuracy: 0.9580 - val_loss: 0.1566 - val_accuracy: 0.9468\n",
      "Epoch 70/100\n",
      "12/12 [==============================] - 0s 11ms/step - loss: 0.1464 - accuracy: 0.9580 - val_loss: 0.1553 - val_accuracy: 0.9468\n",
      "Epoch 71/100\n",
      "12/12 [==============================] - 0s 11ms/step - loss: 0.1450 - accuracy: 0.9606 - val_loss: 0.1540 - val_accuracy: 0.9468\n",
      "Epoch 72/100\n",
      "12/12 [==============================] - 0s 9ms/step - loss: 0.1437 - accuracy: 0.9633 - val_loss: 0.1528 - val_accuracy: 0.9468\n",
      "Epoch 73/100\n",
      "12/12 [==============================] - 0s 9ms/step - loss: 0.1424 - accuracy: 0.9633 - val_loss: 0.1516 - val_accuracy: 0.9468\n",
      "Epoch 74/100\n",
      "12/12 [==============================] - 0s 10ms/step - loss: 0.1411 - accuracy: 0.9633 - val_loss: 0.1503 - val_accuracy: 0.9468\n",
      "Epoch 75/100\n",
      "12/12 [==============================] - 0s 10ms/step - loss: 0.1398 - accuracy: 0.9659 - val_loss: 0.1492 - val_accuracy: 0.9468\n",
      "Epoch 76/100\n",
      "12/12 [==============================] - 0s 9ms/step - loss: 0.1385 - accuracy: 0.9659 - val_loss: 0.1481 - val_accuracy: 0.9521\n",
      "Epoch 77/100\n",
      "12/12 [==============================] - 0s 9ms/step - loss: 0.1373 - accuracy: 0.9659 - val_loss: 0.1470 - val_accuracy: 0.9521\n",
      "Epoch 78/100\n",
      "12/12 [==============================] - 0s 10ms/step - loss: 0.1362 - accuracy: 0.9659 - val_loss: 0.1460 - val_accuracy: 0.9521\n",
      "Epoch 79/100\n",
      "12/12 [==============================] - 0s 10ms/step - loss: 0.1350 - accuracy: 0.9711 - val_loss: 0.1449 - val_accuracy: 0.9521\n",
      "Epoch 80/100\n",
      "12/12 [==============================] - 0s 9ms/step - loss: 0.1339 - accuracy: 0.9711 - val_loss: 0.1438 - val_accuracy: 0.9521\n",
      "Epoch 81/100\n",
      "12/12 [==============================] - 0s 9ms/step - loss: 0.1328 - accuracy: 0.9738 - val_loss: 0.1429 - val_accuracy: 0.9521\n",
      "Epoch 82/100\n",
      "12/12 [==============================] - 0s 9ms/step - loss: 0.1317 - accuracy: 0.9738 - val_loss: 0.1419 - val_accuracy: 0.9521\n",
      "Epoch 83/100\n",
      "12/12 [==============================] - 0s 8ms/step - loss: 0.1307 - accuracy: 0.9764 - val_loss: 0.1410 - val_accuracy: 0.9521\n",
      "Epoch 84/100\n",
      "12/12 [==============================] - 0s 9ms/step - loss: 0.1296 - accuracy: 0.9764 - val_loss: 0.1401 - val_accuracy: 0.9521\n",
      "Epoch 85/100\n",
      "12/12 [==============================] - 0s 9ms/step - loss: 0.1286 - accuracy: 0.9764 - val_loss: 0.1391 - val_accuracy: 0.9521\n",
      "Epoch 86/100\n",
      "12/12 [==============================] - 0s 8ms/step - loss: 0.1277 - accuracy: 0.9790 - val_loss: 0.1383 - val_accuracy: 0.9521\n",
      "Epoch 87/100\n",
      "12/12 [==============================] - 0s 8ms/step - loss: 0.1267 - accuracy: 0.9790 - val_loss: 0.1374 - val_accuracy: 0.9521\n",
      "Epoch 88/100\n",
      "12/12 [==============================] - 0s 9ms/step - loss: 0.1257 - accuracy: 0.9790 - val_loss: 0.1366 - val_accuracy: 0.9521\n",
      "Epoch 89/100\n",
      "12/12 [==============================] - 0s 9ms/step - loss: 0.1249 - accuracy: 0.9790 - val_loss: 0.1358 - val_accuracy: 0.9521\n",
      "Epoch 90/100\n",
      "12/12 [==============================] - 0s 9ms/step - loss: 0.1240 - accuracy: 0.9790 - val_loss: 0.1350 - val_accuracy: 0.9521\n",
      "Epoch 91/100\n",
      "12/12 [==============================] - 0s 8ms/step - loss: 0.1231 - accuracy: 0.9790 - val_loss: 0.1342 - val_accuracy: 0.9521\n",
      "Epoch 92/100\n",
      "12/12 [==============================] - 0s 8ms/step - loss: 0.1222 - accuracy: 0.9790 - val_loss: 0.1334 - val_accuracy: 0.9521\n",
      "Epoch 93/100\n",
      "12/12 [==============================] - 0s 7ms/step - loss: 0.1214 - accuracy: 0.9790 - val_loss: 0.1327 - val_accuracy: 0.9521\n",
      "Epoch 94/100\n",
      "12/12 [==============================] - 0s 7ms/step - loss: 0.1206 - accuracy: 0.9790 - val_loss: 0.1319 - val_accuracy: 0.9521\n",
      "Epoch 95/100\n",
      "12/12 [==============================] - 0s 8ms/step - loss: 0.1198 - accuracy: 0.9790 - val_loss: 0.1312 - val_accuracy: 0.9521\n",
      "Epoch 96/100\n",
      "12/12 [==============================] - 0s 9ms/step - loss: 0.1190 - accuracy: 0.9790 - val_loss: 0.1305 - val_accuracy: 0.9574\n",
      "Epoch 97/100\n",
      "12/12 [==============================] - 0s 9ms/step - loss: 0.1182 - accuracy: 0.9790 - val_loss: 0.1298 - val_accuracy: 0.9574\n",
      "Epoch 98/100\n",
      "12/12 [==============================] - 0s 10ms/step - loss: 0.1174 - accuracy: 0.9790 - val_loss: 0.1291 - val_accuracy: 0.9574\n",
      "Epoch 99/100\n",
      "12/12 [==============================] - 0s 13ms/step - loss: 0.1167 - accuracy: 0.9790 - val_loss: 0.1284 - val_accuracy: 0.9574\n",
      "Epoch 100/100\n",
      "12/12 [==============================] - 0s 9ms/step - loss: 0.1159 - accuracy: 0.9790 - val_loss: 0.1278 - val_accuracy: 0.9574\n"
     ]
    }
   ],
   "source": [
    "r=model.fit(X_train,Y_train,validation_data=(X_test,Y_test),epochs=100)"
   ]
  },
  {
   "cell_type": "code",
   "execution_count": 58,
   "id": "65fcb73c",
   "metadata": {},
   "outputs": [],
   "source": [
    "#way2"
   ]
  },
  {
   "cell_type": "code",
   "execution_count": 59,
   "id": "968a0728",
   "metadata": {},
   "outputs": [],
   "source": [
    "model=tf.keras.models.Sequential()"
   ]
  },
  {
   "cell_type": "code",
   "execution_count": 60,
   "id": "05819b55",
   "metadata": {},
   "outputs": [],
   "source": [
    "model.add(tf.keras.layers.Dense(1,input_shape=(D,),activation='sigmoid'))"
   ]
  },
  {
   "cell_type": "code",
   "execution_count": null,
   "id": "b6fff01c",
   "metadata": {},
   "outputs": [],
   "source": []
  },
  {
   "cell_type": "code",
   "execution_count": 61,
   "id": "e841c2b5",
   "metadata": {},
   "outputs": [],
   "source": [
    "model.compile(optimizer='adam',loss='binary_crossentropy',metrics=['accuracy'])"
   ]
  },
  {
   "cell_type": "code",
   "execution_count": 62,
   "id": "96140936",
   "metadata": {},
   "outputs": [
    {
     "name": "stdout",
     "output_type": "stream",
     "text": [
      "Epoch 1/100\n",
      "12/12 [==============================] - 1s 30ms/step - loss: 1.0224 - accuracy: 0.3281 - val_loss: 0.9011 - val_accuracy: 0.4043\n",
      "Epoch 2/100\n",
      "12/12 [==============================] - 0s 8ms/step - loss: 0.9281 - accuracy: 0.3963 - val_loss: 0.8217 - val_accuracy: 0.4787\n",
      "Epoch 3/100\n",
      "12/12 [==============================] - 0s 10ms/step - loss: 0.8464 - accuracy: 0.4934 - val_loss: 0.7489 - val_accuracy: 0.5479\n",
      "Epoch 4/100\n",
      "12/12 [==============================] - 0s 8ms/step - loss: 0.7706 - accuracy: 0.5486 - val_loss: 0.6860 - val_accuracy: 0.6223\n",
      "Epoch 5/100\n",
      "12/12 [==============================] - 0s 8ms/step - loss: 0.7066 - accuracy: 0.6194 - val_loss: 0.6301 - val_accuracy: 0.6809\n",
      "Epoch 6/100\n",
      "12/12 [==============================] - 0s 9ms/step - loss: 0.6480 - accuracy: 0.6850 - val_loss: 0.5831 - val_accuracy: 0.7128\n",
      "Epoch 7/100\n",
      "12/12 [==============================] - 0s 9ms/step - loss: 0.5995 - accuracy: 0.7139 - val_loss: 0.5414 - val_accuracy: 0.7447\n",
      "Epoch 8/100\n",
      "12/12 [==============================] - 0s 9ms/step - loss: 0.5571 - accuracy: 0.7585 - val_loss: 0.5048 - val_accuracy: 0.7660\n",
      "Epoch 9/100\n",
      "12/12 [==============================] - 0s 9ms/step - loss: 0.5187 - accuracy: 0.7848 - val_loss: 0.4736 - val_accuracy: 0.8138\n",
      "Epoch 10/100\n",
      "12/12 [==============================] - 0s 10ms/step - loss: 0.4866 - accuracy: 0.7953 - val_loss: 0.4456 - val_accuracy: 0.8404\n",
      "Epoch 11/100\n",
      "12/12 [==============================] - 0s 9ms/step - loss: 0.4570 - accuracy: 0.8189 - val_loss: 0.4216 - val_accuracy: 0.8670\n",
      "Epoch 12/100\n",
      "12/12 [==============================] - 0s 9ms/step - loss: 0.4321 - accuracy: 0.8399 - val_loss: 0.3995 - val_accuracy: 0.8723\n",
      "Epoch 13/100\n",
      "12/12 [==============================] - 0s 9ms/step - loss: 0.4090 - accuracy: 0.8530 - val_loss: 0.3799 - val_accuracy: 0.8777\n",
      "Epoch 14/100\n",
      "12/12 [==============================] - 0s 8ms/step - loss: 0.3889 - accuracy: 0.8556 - val_loss: 0.3621 - val_accuracy: 0.8883\n",
      "Epoch 15/100\n",
      "12/12 [==============================] - 0s 9ms/step - loss: 0.3703 - accuracy: 0.8714 - val_loss: 0.3462 - val_accuracy: 0.8936\n",
      "Epoch 16/100\n",
      "12/12 [==============================] - 0s 9ms/step - loss: 0.3534 - accuracy: 0.8871 - val_loss: 0.3318 - val_accuracy: 0.9043\n",
      "Epoch 17/100\n",
      "12/12 [==============================] - 0s 11ms/step - loss: 0.3381 - accuracy: 0.9003 - val_loss: 0.3188 - val_accuracy: 0.9096\n",
      "Epoch 18/100\n",
      "12/12 [==============================] - 0s 8ms/step - loss: 0.3244 - accuracy: 0.9003 - val_loss: 0.3067 - val_accuracy: 0.9202\n",
      "Epoch 19/100\n",
      "12/12 [==============================] - 0s 8ms/step - loss: 0.3115 - accuracy: 0.9055 - val_loss: 0.2959 - val_accuracy: 0.9202\n",
      "Epoch 20/100\n",
      "12/12 [==============================] - 0s 9ms/step - loss: 0.3004 - accuracy: 0.9186 - val_loss: 0.2856 - val_accuracy: 0.9149\n",
      "Epoch 21/100\n",
      "12/12 [==============================] - 0s 9ms/step - loss: 0.2893 - accuracy: 0.9291 - val_loss: 0.2762 - val_accuracy: 0.9202\n",
      "Epoch 22/100\n",
      "12/12 [==============================] - 0s 9ms/step - loss: 0.2796 - accuracy: 0.9370 - val_loss: 0.2676 - val_accuracy: 0.9255\n",
      "Epoch 23/100\n",
      "12/12 [==============================] - 0s 9ms/step - loss: 0.2705 - accuracy: 0.9396 - val_loss: 0.2597 - val_accuracy: 0.9255\n",
      "Epoch 24/100\n",
      "12/12 [==============================] - 0s 11ms/step - loss: 0.2619 - accuracy: 0.9423 - val_loss: 0.2524 - val_accuracy: 0.9255\n",
      "Epoch 25/100\n",
      "12/12 [==============================] - 0s 7ms/step - loss: 0.2542 - accuracy: 0.9475 - val_loss: 0.2455 - val_accuracy: 0.9309\n",
      "Epoch 26/100\n",
      "12/12 [==============================] - 0s 11ms/step - loss: 0.2468 - accuracy: 0.9501 - val_loss: 0.2392 - val_accuracy: 0.9309\n",
      "Epoch 27/100\n",
      "12/12 [==============================] - 0s 8ms/step - loss: 0.2401 - accuracy: 0.9528 - val_loss: 0.2332 - val_accuracy: 0.9309\n",
      "Epoch 28/100\n",
      "12/12 [==============================] - 0s 12ms/step - loss: 0.2337 - accuracy: 0.9528 - val_loss: 0.2276 - val_accuracy: 0.9309\n",
      "Epoch 29/100\n",
      "12/12 [==============================] - 0s 9ms/step - loss: 0.2279 - accuracy: 0.9580 - val_loss: 0.2223 - val_accuracy: 0.9309\n",
      "Epoch 30/100\n",
      "12/12 [==============================] - 0s 12ms/step - loss: 0.2221 - accuracy: 0.9580 - val_loss: 0.2175 - val_accuracy: 0.9309\n",
      "Epoch 31/100\n",
      "12/12 [==============================] - 0s 9ms/step - loss: 0.2170 - accuracy: 0.9606 - val_loss: 0.2129 - val_accuracy: 0.9415\n",
      "Epoch 32/100\n",
      "12/12 [==============================] - 0s 9ms/step - loss: 0.2121 - accuracy: 0.9606 - val_loss: 0.2085 - val_accuracy: 0.9415\n",
      "Epoch 33/100\n",
      "12/12 [==============================] - 0s 8ms/step - loss: 0.2076 - accuracy: 0.9633 - val_loss: 0.2043 - val_accuracy: 0.9468\n",
      "Epoch 34/100\n",
      "12/12 [==============================] - 0s 9ms/step - loss: 0.2030 - accuracy: 0.9633 - val_loss: 0.2004 - val_accuracy: 0.9468\n",
      "Epoch 35/100\n",
      "12/12 [==============================] - 0s 9ms/step - loss: 0.1990 - accuracy: 0.9659 - val_loss: 0.1968 - val_accuracy: 0.9468\n",
      "Epoch 36/100\n",
      "12/12 [==============================] - 0s 12ms/step - loss: 0.1950 - accuracy: 0.9685 - val_loss: 0.1933 - val_accuracy: 0.9521\n",
      "Epoch 37/100\n",
      "12/12 [==============================] - 0s 10ms/step - loss: 0.1914 - accuracy: 0.9685 - val_loss: 0.1900 - val_accuracy: 0.9521\n",
      "Epoch 38/100\n",
      "12/12 [==============================] - 0s 10ms/step - loss: 0.1879 - accuracy: 0.9685 - val_loss: 0.1870 - val_accuracy: 0.9521\n",
      "Epoch 39/100\n",
      "12/12 [==============================] - 0s 10ms/step - loss: 0.1846 - accuracy: 0.9685 - val_loss: 0.1839 - val_accuracy: 0.9521\n",
      "Epoch 40/100\n",
      "12/12 [==============================] - 0s 7ms/step - loss: 0.1814 - accuracy: 0.9685 - val_loss: 0.1811 - val_accuracy: 0.9521\n",
      "Epoch 41/100\n",
      "12/12 [==============================] - 0s 10ms/step - loss: 0.1783 - accuracy: 0.9685 - val_loss: 0.1784 - val_accuracy: 0.9521\n",
      "Epoch 42/100\n",
      "12/12 [==============================] - 0s 9ms/step - loss: 0.1755 - accuracy: 0.9711 - val_loss: 0.1758 - val_accuracy: 0.9521\n",
      "Epoch 43/100\n",
      "12/12 [==============================] - 0s 10ms/step - loss: 0.1726 - accuracy: 0.9711 - val_loss: 0.1733 - val_accuracy: 0.9521\n",
      "Epoch 44/100\n",
      "12/12 [==============================] - 0s 9ms/step - loss: 0.1700 - accuracy: 0.9764 - val_loss: 0.1710 - val_accuracy: 0.9521\n",
      "Epoch 45/100\n",
      "12/12 [==============================] - 0s 9ms/step - loss: 0.1675 - accuracy: 0.9764 - val_loss: 0.1687 - val_accuracy: 0.9574\n",
      "Epoch 46/100\n",
      "12/12 [==============================] - 0s 9ms/step - loss: 0.1651 - accuracy: 0.9764 - val_loss: 0.1666 - val_accuracy: 0.9574\n",
      "Epoch 47/100\n",
      "12/12 [==============================] - 0s 9ms/step - loss: 0.1627 - accuracy: 0.9764 - val_loss: 0.1645 - val_accuracy: 0.9574\n",
      "Epoch 48/100\n",
      "12/12 [==============================] - 0s 9ms/step - loss: 0.1605 - accuracy: 0.9764 - val_loss: 0.1625 - val_accuracy: 0.9574\n",
      "Epoch 49/100\n",
      "12/12 [==============================] - 0s 8ms/step - loss: 0.1584 - accuracy: 0.9764 - val_loss: 0.1606 - val_accuracy: 0.9574\n",
      "Epoch 50/100\n",
      "12/12 [==============================] - 0s 9ms/step - loss: 0.1563 - accuracy: 0.9790 - val_loss: 0.1588 - val_accuracy: 0.9628\n",
      "Epoch 51/100\n",
      "12/12 [==============================] - 0s 9ms/step - loss: 0.1543 - accuracy: 0.9790 - val_loss: 0.1570 - val_accuracy: 0.9628\n",
      "Epoch 52/100\n",
      "12/12 [==============================] - 0s 11ms/step - loss: 0.1524 - accuracy: 0.9790 - val_loss: 0.1553 - val_accuracy: 0.9628\n",
      "Epoch 53/100\n",
      "12/12 [==============================] - 0s 8ms/step - loss: 0.1506 - accuracy: 0.9790 - val_loss: 0.1537 - val_accuracy: 0.9628\n",
      "Epoch 54/100\n",
      "12/12 [==============================] - 0s 9ms/step - loss: 0.1488 - accuracy: 0.9790 - val_loss: 0.1521 - val_accuracy: 0.9628\n",
      "Epoch 55/100\n",
      "12/12 [==============================] - 0s 9ms/step - loss: 0.1471 - accuracy: 0.9790 - val_loss: 0.1506 - val_accuracy: 0.9628\n",
      "Epoch 56/100\n",
      "12/12 [==============================] - 0s 10ms/step - loss: 0.1453 - accuracy: 0.9790 - val_loss: 0.1491 - val_accuracy: 0.9628\n",
      "Epoch 57/100\n",
      "12/12 [==============================] - 0s 8ms/step - loss: 0.1438 - accuracy: 0.9790 - val_loss: 0.1477 - val_accuracy: 0.9628\n",
      "Epoch 58/100\n"
     ]
    },
    {
     "name": "stdout",
     "output_type": "stream",
     "text": [
      "12/12 [==============================] - 0s 7ms/step - loss: 0.1422 - accuracy: 0.9790 - val_loss: 0.1463 - val_accuracy: 0.9628\n",
      "Epoch 59/100\n",
      "12/12 [==============================] - 0s 8ms/step - loss: 0.1407 - accuracy: 0.9790 - val_loss: 0.1451 - val_accuracy: 0.9628\n",
      "Epoch 60/100\n",
      "12/12 [==============================] - 0s 8ms/step - loss: 0.1393 - accuracy: 0.9790 - val_loss: 0.1438 - val_accuracy: 0.9628\n",
      "Epoch 61/100\n",
      "12/12 [==============================] - 0s 8ms/step - loss: 0.1378 - accuracy: 0.9790 - val_loss: 0.1425 - val_accuracy: 0.9628\n",
      "Epoch 62/100\n",
      "12/12 [==============================] - 0s 8ms/step - loss: 0.1365 - accuracy: 0.9790 - val_loss: 0.1413 - val_accuracy: 0.9681\n",
      "Epoch 63/100\n",
      "12/12 [==============================] - 0s 8ms/step - loss: 0.1352 - accuracy: 0.9790 - val_loss: 0.1401 - val_accuracy: 0.9681\n",
      "Epoch 64/100\n",
      "12/12 [==============================] - 0s 7ms/step - loss: 0.1338 - accuracy: 0.9790 - val_loss: 0.1390 - val_accuracy: 0.9681\n",
      "Epoch 65/100\n",
      "12/12 [==============================] - 0s 8ms/step - loss: 0.1326 - accuracy: 0.9790 - val_loss: 0.1379 - val_accuracy: 0.9681\n",
      "Epoch 66/100\n",
      "12/12 [==============================] - 0s 8ms/step - loss: 0.1313 - accuracy: 0.9790 - val_loss: 0.1368 - val_accuracy: 0.9681\n",
      "Epoch 67/100\n",
      "12/12 [==============================] - 0s 8ms/step - loss: 0.1302 - accuracy: 0.9790 - val_loss: 0.1358 - val_accuracy: 0.9681\n",
      "Epoch 68/100\n",
      "12/12 [==============================] - 0s 8ms/step - loss: 0.1290 - accuracy: 0.9790 - val_loss: 0.1348 - val_accuracy: 0.9681\n",
      "Epoch 69/100\n",
      "12/12 [==============================] - 0s 8ms/step - loss: 0.1279 - accuracy: 0.9790 - val_loss: 0.1338 - val_accuracy: 0.9681\n",
      "Epoch 70/100\n",
      "12/12 [==============================] - 0s 8ms/step - loss: 0.1268 - accuracy: 0.9790 - val_loss: 0.1328 - val_accuracy: 0.9681\n",
      "Epoch 71/100\n",
      "12/12 [==============================] - 0s 8ms/step - loss: 0.1258 - accuracy: 0.9790 - val_loss: 0.1320 - val_accuracy: 0.9681\n",
      "Epoch 72/100\n",
      "12/12 [==============================] - 0s 7ms/step - loss: 0.1247 - accuracy: 0.9790 - val_loss: 0.1310 - val_accuracy: 0.9681\n",
      "Epoch 73/100\n",
      "12/12 [==============================] - 0s 8ms/step - loss: 0.1237 - accuracy: 0.9790 - val_loss: 0.1301 - val_accuracy: 0.9681\n",
      "Epoch 74/100\n",
      "12/12 [==============================] - 0s 8ms/step - loss: 0.1227 - accuracy: 0.9790 - val_loss: 0.1293 - val_accuracy: 0.9681\n",
      "Epoch 75/100\n",
      "12/12 [==============================] - 0s 8ms/step - loss: 0.1217 - accuracy: 0.9790 - val_loss: 0.1285 - val_accuracy: 0.9734\n",
      "Epoch 76/100\n",
      "12/12 [==============================] - 0s 8ms/step - loss: 0.1208 - accuracy: 0.9790 - val_loss: 0.1276 - val_accuracy: 0.9734\n",
      "Epoch 77/100\n",
      "12/12 [==============================] - 0s 8ms/step - loss: 0.1199 - accuracy: 0.9790 - val_loss: 0.1268 - val_accuracy: 0.9734\n",
      "Epoch 78/100\n",
      "12/12 [==============================] - 0s 8ms/step - loss: 0.1190 - accuracy: 0.9790 - val_loss: 0.1261 - val_accuracy: 0.9734\n",
      "Epoch 79/100\n",
      "12/12 [==============================] - 0s 9ms/step - loss: 0.1181 - accuracy: 0.9790 - val_loss: 0.1253 - val_accuracy: 0.9734\n",
      "Epoch 80/100\n",
      "12/12 [==============================] - 0s 8ms/step - loss: 0.1172 - accuracy: 0.9790 - val_loss: 0.1246 - val_accuracy: 0.9734\n",
      "Epoch 81/100\n",
      "12/12 [==============================] - 0s 8ms/step - loss: 0.1164 - accuracy: 0.9790 - val_loss: 0.1238 - val_accuracy: 0.9734\n",
      "Epoch 82/100\n",
      "12/12 [==============================] - 0s 8ms/step - loss: 0.1156 - accuracy: 0.9790 - val_loss: 0.1232 - val_accuracy: 0.9681\n",
      "Epoch 83/100\n",
      "12/12 [==============================] - 0s 8ms/step - loss: 0.1148 - accuracy: 0.9790 - val_loss: 0.1225 - val_accuracy: 0.9681\n",
      "Epoch 84/100\n",
      "12/12 [==============================] - 0s 8ms/step - loss: 0.1140 - accuracy: 0.9790 - val_loss: 0.1219 - val_accuracy: 0.9734\n",
      "Epoch 85/100\n",
      "12/12 [==============================] - 0s 9ms/step - loss: 0.1133 - accuracy: 0.9790 - val_loss: 0.1212 - val_accuracy: 0.9734\n",
      "Epoch 86/100\n",
      "12/12 [==============================] - 0s 8ms/step - loss: 0.1125 - accuracy: 0.9790 - val_loss: 0.1205 - val_accuracy: 0.9734\n",
      "Epoch 87/100\n",
      "12/12 [==============================] - 0s 8ms/step - loss: 0.1117 - accuracy: 0.9790 - val_loss: 0.1199 - val_accuracy: 0.9734\n",
      "Epoch 88/100\n",
      "12/12 [==============================] - 0s 10ms/step - loss: 0.1110 - accuracy: 0.9790 - val_loss: 0.1193 - val_accuracy: 0.9734\n",
      "Epoch 89/100\n",
      "12/12 [==============================] - 0s 10ms/step - loss: 0.1103 - accuracy: 0.9790 - val_loss: 0.1187 - val_accuracy: 0.9734\n",
      "Epoch 90/100\n",
      "12/12 [==============================] - 0s 10ms/step - loss: 0.1096 - accuracy: 0.9790 - val_loss: 0.1181 - val_accuracy: 0.9734\n",
      "Epoch 91/100\n",
      "12/12 [==============================] - 0s 11ms/step - loss: 0.1089 - accuracy: 0.9790 - val_loss: 0.1176 - val_accuracy: 0.9734\n",
      "Epoch 92/100\n",
      "12/12 [==============================] - 0s 9ms/step - loss: 0.1083 - accuracy: 0.9790 - val_loss: 0.1170 - val_accuracy: 0.9734\n",
      "Epoch 93/100\n",
      "12/12 [==============================] - 0s 10ms/step - loss: 0.1077 - accuracy: 0.9790 - val_loss: 0.1164 - val_accuracy: 0.9734\n",
      "Epoch 94/100\n",
      "12/12 [==============================] - 0s 11ms/step - loss: 0.1070 - accuracy: 0.9790 - val_loss: 0.1159 - val_accuracy: 0.9734\n",
      "Epoch 95/100\n",
      "12/12 [==============================] - 0s 10ms/step - loss: 0.1064 - accuracy: 0.9790 - val_loss: 0.1154 - val_accuracy: 0.9734\n",
      "Epoch 96/100\n",
      "12/12 [==============================] - 0s 9ms/step - loss: 0.1057 - accuracy: 0.9790 - val_loss: 0.1149 - val_accuracy: 0.9734\n",
      "Epoch 97/100\n",
      "12/12 [==============================] - 0s 10ms/step - loss: 0.1052 - accuracy: 0.9790 - val_loss: 0.1144 - val_accuracy: 0.9734\n",
      "Epoch 98/100\n",
      "12/12 [==============================] - 0s 8ms/step - loss: 0.1046 - accuracy: 0.9790 - val_loss: 0.1138 - val_accuracy: 0.9734\n",
      "Epoch 99/100\n",
      "12/12 [==============================] - 0s 8ms/step - loss: 0.1040 - accuracy: 0.9790 - val_loss: 0.1134 - val_accuracy: 0.9734\n",
      "Epoch 100/100\n",
      "12/12 [==============================] - 0s 11ms/step - loss: 0.1034 - accuracy: 0.9790 - val_loss: 0.1129 - val_accuracy: 0.9734\n"
     ]
    }
   ],
   "source": [
    "r=model.fit(X_train,Y_train,validation_data=(X_test,Y_test),epochs=100)"
   ]
  },
  {
   "cell_type": "code",
   "execution_count": 63,
   "id": "e546d89d",
   "metadata": {},
   "outputs": [],
   "source": [
    "#Evaluate the model"
   ]
  },
  {
   "cell_type": "code",
   "execution_count": 64,
   "id": "9598073d",
   "metadata": {},
   "outputs": [
    {
     "name": "stdout",
     "output_type": "stream",
     "text": [
      "12/12 [==============================] - 0s 2ms/step - loss: 0.1030 - accuracy: 0.9790\n",
      "Train score:  [0.10304935276508331, 0.9790025949478149]\n",
      "6/6 [==============================] - 0s 5ms/step - loss: 0.1129 - accuracy: 0.9734\n",
      "Test score:  [0.1129073053598404, 0.9734042286872864]\n"
     ]
    }
   ],
   "source": [
    "print(\"Train score: \",model.evaluate(X_train,Y_train))\n",
    "print(\"Test score: \",model.evaluate(X_test,Y_test))"
   ]
  },
  {
   "cell_type": "code",
   "execution_count": 65,
   "id": "c22a12a1",
   "metadata": {},
   "outputs": [],
   "source": [
    "import matplotlib.pyplot as plt"
   ]
  },
  {
   "cell_type": "code",
   "execution_count": 66,
   "id": "825d3fd2",
   "metadata": {},
   "outputs": [],
   "source": [
    "#plot what's written by the model"
   ]
  },
  {
   "cell_type": "code",
   "execution_count": 68,
   "id": "0ca56598",
   "metadata": {},
   "outputs": [
    {
     "data": {
      "text/plain": [
       "<matplotlib.legend.Legend at 0x23252968fd0>"
      ]
     },
     "execution_count": 68,
     "metadata": {},
     "output_type": "execute_result"
    },
    {
     "data": {
      "image/png": "[encoded data removed]",
      "text/plain": [
       "<Figure size 432x288 with 1 Axes>"
      ]
     },
     "metadata": {
      "needs_background": "light"
     },
     "output_type": "display_data"
    }
   ],
   "source": [
    "plt.plot(r.history['loss'],label='loss')\n",
    "plt.plot(r.history['val_loss'],label='val_loss')\n",
    "plt.title(\"Loss and Val_loss VS Iteration\",loc='center')\n",
    "plt.xlabel(\"Loss and Val_loss\")\n",
    "plt.ylabel(\"Iteration\")\n",
    "plt.legend()"
   ]
  },
  {
   "cell_type": "code",
   "execution_count": 69,
   "id": "74200a0e",
   "metadata": {},
   "outputs": [
    {
     "data": {
      "text/plain": [
       "<matplotlib.legend.Legend at 0x23252aa9160>"
      ]
     },
     "execution_count": 69,
     "metadata": {},
     "output_type": "execute_result"
    },
    {
     "data": {
      "image/png": "[encoded data removed]",
      "text/plain": [
       "<Figure size 432x288 with 1 Axes>"
      ]
     },
     "metadata": {
      "needs_background": "light"
     },
     "output_type": "display_data"
    }
   ],
   "source": [
    "plt.plot(r.history['accuracy'],label='accuracy')\n",
    "plt.plot(r.history['val_accuracy'],label='val_accuracy')\n",
    "plt.title(\"accuracy and val_accuracy VS Iteration\",loc='center')\n",
    "plt.xlabel(\"Accuracy and Val_accuracy\")\n",
    "plt.ylabel(\"Iteration\")\n",
    "plt.legend()"
   ]
  },
  {
   "cell_type": "code",
   "execution_count": 70,
   "id": "9a8bd877",
   "metadata": {},
   "outputs": [],
   "source": [
    "#Making prediction"
   ]
  },
  {
   "cell_type": "code",
   "execution_count": 71,
   "id": "4113c8e2",
   "metadata": {},
   "outputs": [],
   "source": [
    "Y_pred=model.predict(X_test)"
   ]
  },
  {
   "cell_type": "code",
   "execution_count": 72,
   "id": "72792076",
   "metadata": {},
   "outputs": [
    {
     "name": "stdout",
     "output_type": "stream",
     "text": [
      "[[9.81976211e-01]\n",
      " [3.71963084e-02]\n",
      " [1.30074829e-01]\n",
      " [2.90454626e-01]\n",
      " [9.96343493e-01]\n",
      " [9.90020633e-01]\n",
      " [2.37963200e-01]\n",
      " [9.96821225e-01]\n",
      " [9.65295613e-01]\n",
      " [5.59412599e-01]\n",
      " [9.99481440e-01]\n",
      " [9.97746706e-01]\n",
      " [4.95064378e-01]\n",
      " [9.98006225e-01]\n",
      " [9.45299625e-01]\n",
      " [9.51660335e-01]\n",
      " [4.80045438e-01]\n",
      " [9.99835074e-01]\n",
      " [9.79410112e-01]\n",
      " [3.66246700e-02]\n",
      " [9.52106714e-03]\n",
      " [9.79433954e-01]\n",
      " [7.41368532e-03]\n",
      " [9.98599052e-01]\n",
      " [7.11841881e-02]\n",
      " [9.86606538e-01]\n",
      " [9.24563468e-01]\n",
      " [4.77081537e-03]\n",
      " [9.79650855e-01]\n",
      " [8.56807232e-01]\n",
      " [5.81630170e-01]\n",
      " [4.77960795e-01]\n",
      " [3.11926007e-03]\n",
      " [3.35784853e-02]\n",
      " [1.06352448e-01]\n",
      " [6.43021405e-01]\n",
      " [9.69193697e-01]\n",
      " [7.86453962e-01]\n",
      " [2.55137638e-06]\n",
      " [3.55462134e-02]\n",
      " [9.19340491e-01]\n",
      " [9.11791146e-01]\n",
      " [1.01585807e-04]\n",
      " [3.58512342e-01]\n",
      " [9.04053092e-01]\n",
      " [6.11785054e-03]\n",
      " [8.12020957e-01]\n",
      " [2.22821534e-02]\n",
      " [5.97691655e-01]\n",
      " [9.95042801e-01]\n",
      " [9.99009609e-01]\n",
      " [9.06487882e-01]\n",
      " [9.80245113e-01]\n",
      " [8.44465494e-01]\n",
      " [9.08063173e-01]\n",
      " [9.94079053e-01]\n",
      " [1.47480965e-02]\n",
      " [9.87689435e-01]\n",
      " [9.82772112e-01]\n",
      " [3.39781642e-02]\n",
      " [1.35913491e-03]\n",
      " [8.27507138e-01]\n",
      " [2.88304687e-03]\n",
      " [6.20973110e-01]\n",
      " [9.91477013e-01]\n",
      " [2.08287537e-02]\n",
      " [1.08485818e-02]\n",
      " [8.79228711e-01]\n",
      " [7.44318902e-01]\n",
      " [9.48462486e-01]\n",
      " [8.57277274e-01]\n",
      " [9.85660791e-01]\n",
      " [9.74761724e-01]\n",
      " [9.94488358e-01]\n",
      " [2.44987011e-03]\n",
      " [9.98131275e-01]\n",
      " [9.87741113e-01]\n",
      " [8.81090283e-01]\n",
      " [4.87433821e-01]\n",
      " [9.98919129e-01]\n",
      " [1.64939761e-02]\n",
      " [8.67841721e-01]\n",
      " [9.73844230e-01]\n",
      " [9.37505901e-01]\n",
      " [9.77238178e-01]\n",
      " [2.56168842e-03]\n",
      " [9.80992198e-01]\n",
      " [1.97142399e-05]\n",
      " [9.33358192e-01]\n",
      " [8.13475966e-01]\n",
      " [8.45158994e-01]\n",
      " [1.25914812e-04]\n",
      " [9.65926647e-01]\n",
      " [9.34288979e-01]\n",
      " [9.95043516e-01]\n",
      " [9.70330477e-01]\n",
      " [1.70031130e-01]\n",
      " [9.92595673e-01]\n",
      " [7.94539928e-01]\n",
      " [8.26689184e-01]\n",
      " [9.86147881e-01]\n",
      " [3.65502536e-02]\n",
      " [9.04597342e-01]\n",
      " [1.87944561e-01]\n",
      " [6.03860617e-03]\n",
      " [9.59092975e-01]\n",
      " [8.95873308e-01]\n",
      " [9.69497204e-01]\n",
      " [9.88299608e-01]\n",
      " [9.74680305e-01]\n",
      " [8.98380458e-01]\n",
      " [4.38937873e-01]\n",
      " [1.57654285e-03]\n",
      " [1.06547341e-04]\n",
      " [9.96648967e-01]\n",
      " [9.75060463e-01]\n",
      " [9.75111961e-01]\n",
      " [8.55921149e-01]\n",
      " [9.90118921e-01]\n",
      " [6.72633648e-02]\n",
      " [9.98532653e-01]\n",
      " [9.99239266e-01]\n",
      " [9.74311471e-01]\n",
      " [7.02551126e-01]\n",
      " [9.91421461e-01]\n",
      " [9.86981511e-01]\n",
      " [9.87550735e-01]\n",
      " [7.97371507e-01]\n",
      " [4.74840403e-04]\n",
      " [2.62447000e-02]\n",
      " [9.75610614e-01]\n",
      " [9.98516440e-01]\n",
      " [9.64517355e-01]\n",
      " [1.98002845e-01]\n",
      " [7.89374113e-04]\n",
      " [2.56741047e-02]\n",
      " [4.64265347e-02]\n",
      " [9.96683478e-01]\n",
      " [9.17406559e-01]\n",
      " [2.54140496e-02]\n",
      " [9.73848581e-01]\n",
      " [1.03405118e-03]\n",
      " [9.76041853e-01]\n",
      " [9.33921933e-01]\n",
      " [9.93678629e-01]\n",
      " [8.93968582e-01]\n",
      " [9.79553342e-01]\n",
      " [9.91681337e-01]\n",
      " [6.81856573e-02]\n",
      " [9.92888212e-01]\n",
      " [9.91878271e-01]\n",
      " [1.53213739e-04]\n",
      " [1.64759159e-03]\n",
      " [5.48203502e-07]\n",
      " [5.59929311e-02]\n",
      " [8.42635512e-01]\n",
      " [9.55156088e-01]\n",
      " [9.18946385e-01]\n",
      " [9.74787533e-01]\n",
      " [5.79027474e-01]\n",
      " [6.72855556e-01]\n",
      " [9.54471231e-01]\n",
      " [9.88771141e-01]\n",
      " [9.95358407e-01]\n",
      " [9.83487010e-01]\n",
      " [1.21834874e-03]\n",
      " [9.24186945e-01]\n",
      " [9.30960357e-01]\n",
      " [2.23201632e-01]\n",
      " [9.71887589e-01]\n",
      " [9.98247743e-01]\n",
      " [9.89528894e-01]\n",
      " [1.56940907e-01]\n",
      " [9.56815600e-01]\n",
      " [8.12491238e-01]\n",
      " [9.85935330e-01]\n",
      " [9.90059555e-01]\n",
      " [9.98031497e-01]\n",
      " [9.73216057e-01]\n",
      " [1.11758500e-01]\n",
      " [9.92118835e-01]\n",
      " [1.38863921e-02]\n",
      " [9.76277530e-01]\n",
      " [7.56969988e-01]\n",
      " [1.48266554e-03]\n",
      " [9.92010117e-01]\n",
      " [1.22215122e-01]\n",
      " [2.66527236e-02]]\n"
     ]
    }
   ],
   "source": [
    "print(Y_pred)"
   ]
  },
  {
   "cell_type": "code",
   "execution_count": 76,
   "id": "ac24f9c5",
   "metadata": {},
   "outputs": [
    {
     "name": "stdout",
     "output_type": "stream",
     "text": [
      "[[1.]\n",
      " [0.]\n",
      " [0.]\n",
      " [0.]\n",
      " [1.]\n",
      " [1.]\n",
      " [0.]\n",
      " [1.]\n",
      " [1.]\n",
      " [1.]\n",
      " [1.]\n",
      " [1.]\n",
      " [0.]\n",
      " [1.]\n",
      " [1.]\n",
      " [1.]\n",
      " [0.]\n",
      " [1.]\n",
      " [1.]\n",
      " [0.]\n",
      " [0.]\n",
      " [1.]\n",
      " [0.]\n",
      " [1.]\n",
      " [0.]\n",
      " [1.]\n",
      " [1.]\n",
      " [0.]\n",
      " [1.]\n",
      " [1.]\n",
      " [1.]\n",
      " [0.]\n",
      " [0.]\n",
      " [0.]\n",
      " [0.]\n",
      " [1.]\n",
      " [1.]\n",
      " [1.]\n",
      " [0.]\n",
      " [0.]\n",
      " [1.]\n",
      " [1.]\n",
      " [0.]\n",
      " [0.]\n",
      " [1.]\n",
      " [0.]\n",
      " [1.]\n",
      " [0.]\n",
      " [1.]\n",
      " [1.]\n",
      " [1.]\n",
      " [1.]\n",
      " [1.]\n",
      " [1.]\n",
      " [1.]\n",
      " [1.]\n",
      " [0.]\n",
      " [1.]\n",
      " [1.]\n",
      " [0.]\n",
      " [0.]\n",
      " [1.]\n",
      " [0.]\n",
      " [1.]\n",
      " [1.]\n",
      " [0.]\n",
      " [0.]\n",
      " [1.]\n",
      " [1.]\n",
      " [1.]\n",
      " [1.]\n",
      " [1.]\n",
      " [1.]\n",
      " [1.]\n",
      " [0.]\n",
      " [1.]\n",
      " [1.]\n",
      " [1.]\n",
      " [0.]\n",
      " [1.]\n",
      " [0.]\n",
      " [1.]\n",
      " [1.]\n",
      " [1.]\n",
      " [1.]\n",
      " [0.]\n",
      " [1.]\n",
      " [0.]\n",
      " [1.]\n",
      " [1.]\n",
      " [1.]\n",
      " [0.]\n",
      " [1.]\n",
      " [1.]\n",
      " [1.]\n",
      " [1.]\n",
      " [0.]\n",
      " [1.]\n",
      " [1.]\n",
      " [1.]\n",
      " [1.]\n",
      " [0.]\n",
      " [1.]\n",
      " [0.]\n",
      " [0.]\n",
      " [1.]\n",
      " [1.]\n",
      " [1.]\n",
      " [1.]\n",
      " [1.]\n",
      " [1.]\n",
      " [0.]\n",
      " [0.]\n",
      " [0.]\n",
      " [1.]\n",
      " [1.]\n",
      " [1.]\n",
      " [1.]\n",
      " [1.]\n",
      " [0.]\n",
      " [1.]\n",
      " [1.]\n",
      " [1.]\n",
      " [1.]\n",
      " [1.]\n",
      " [1.]\n",
      " [1.]\n",
      " [1.]\n",
      " [0.]\n",
      " [0.]\n",
      " [1.]\n",
      " [1.]\n",
      " [1.]\n",
      " [0.]\n",
      " [0.]\n",
      " [0.]\n",
      " [0.]\n",
      " [1.]\n",
      " [1.]\n",
      " [0.]\n",
      " [1.]\n",
      " [0.]\n",
      " [1.]\n",
      " [1.]\n",
      " [1.]\n",
      " [1.]\n",
      " [1.]\n",
      " [1.]\n",
      " [0.]\n",
      " [1.]\n",
      " [1.]\n",
      " [0.]\n",
      " [0.]\n",
      " [0.]\n",
      " [0.]\n",
      " [1.]\n",
      " [1.]\n",
      " [1.]\n",
      " [1.]\n",
      " [1.]\n",
      " [1.]\n",
      " [1.]\n",
      " [1.]\n",
      " [1.]\n",
      " [1.]\n",
      " [0.]\n",
      " [1.]\n",
      " [1.]\n",
      " [0.]\n",
      " [1.]\n",
      " [1.]\n",
      " [1.]\n",
      " [0.]\n",
      " [1.]\n",
      " [1.]\n",
      " [1.]\n",
      " [1.]\n",
      " [1.]\n",
      " [1.]\n",
      " [0.]\n",
      " [1.]\n",
      " [0.]\n",
      " [1.]\n",
      " [1.]\n",
      " [0.]\n",
      " [1.]\n",
      " [0.]\n",
      " [0.]]\n"
     ]
    }
   ],
   "source": [
    "import numpy as np\n",
    "print(np.round(Y_pred))"
   ]
  },
  {
   "cell_type": "code",
   "execution_count": 75,
   "id": "ba77d8be",
   "metadata": {},
   "outputs": [
    {
     "data": {
      "text/plain": [
       "46"
      ]
     },
     "execution_count": 75,
     "metadata": {},
     "output_type": "execute_result"
    }
   ],
   "source": [
    "round(45.54577)"
   ]
  },
  {
   "cell_type": "code",
   "execution_count": 79,
   "id": "486d635a",
   "metadata": {},
   "outputs": [
    {
     "data": {
      "text/plain": [
       "array([1., 0., 0., 0., 1., 1., 0., 1., 1., 1., 1., 1., 0., 1., 1., 1., 0.,\n",
       "       1., 1., 0., 0., 1., 0., 1., 0., 1., 1., 0., 1., 1., 1., 0., 0., 0.,\n",
       "       0., 1., 1., 1., 0., 0., 1., 1., 0., 0., 1., 0., 1., 0., 1., 1., 1.,\n",
       "       1., 1., 1., 1., 1., 0., 1., 1., 0., 0., 1., 0., 1., 1., 0., 0., 1.,\n",
       "       1., 1., 1., 1., 1., 1., 0., 1., 1., 1., 0., 1., 0., 1., 1., 1., 1.,\n",
       "       0., 1., 0., 1., 1., 1., 0., 1., 1., 1., 1., 0., 1., 1., 1., 1., 0.,\n",
       "       1., 0., 0., 1., 1., 1., 1., 1., 1., 0., 0., 0., 1., 1., 1., 1., 1.,\n",
       "       0., 1., 1., 1., 1., 1., 1., 1., 1., 0., 0., 1., 1., 1., 0., 0., 0.,\n",
       "       0., 1., 1., 0., 1., 0., 1., 1., 1., 1., 1., 1., 0., 1., 1., 0., 0.,\n",
       "       0., 0., 1., 1., 1., 1., 1., 1., 1., 1., 1., 1., 0., 1., 1., 0., 1.,\n",
       "       1., 1., 0., 1., 1., 1., 1., 1., 1., 0., 1., 0., 1., 1., 0., 1., 0.,\n",
       "       0.], dtype=float32)"
      ]
     },
     "execution_count": 79,
     "metadata": {},
     "output_type": "execute_result"
    }
   ],
   "source": [
    "np.round(Y_pred).flatten()"
   ]
  },
  {
   "cell_type": "code",
   "execution_count": 80,
   "id": "be8d9177",
   "metadata": {},
   "outputs": [],
   "source": [
    "#Calculating the accuracy, compare it to evaluate() output"
   ]
  },
  {
   "cell_type": "code",
   "execution_count": 82,
   "id": "c31d8603",
   "metadata": {},
   "outputs": [
    {
     "name": "stdout",
     "output_type": "stream",
     "text": [
      "manually calculate accuracy 0.0\n"
     ]
    }
   ],
   "source": [
    "print(\"manually calculate accuracy\",np.mean(Y_pred==Y_test))"
   ]
  },
  {
   "cell_type": "code",
   "execution_count": 83,
   "id": "dbbd3604",
   "metadata": {},
   "outputs": [
    {
     "data": {
      "text/plain": [
       "array([[9.81976211e-01],\n",
       "       [3.71963084e-02],\n",
       "       [1.30074829e-01],\n",
       "       [2.90454626e-01],\n",
       "       [9.96343493e-01],\n",
       "       [9.90020633e-01],\n",
       "       [2.37963200e-01],\n",
       "       [9.96821225e-01],\n",
       "       [9.65295613e-01],\n",
       "       [5.59412599e-01],\n",
       "       [9.99481440e-01],\n",
       "       [9.97746706e-01],\n",
       "       [4.95064378e-01],\n",
       "       [9.98006225e-01],\n",
       "       [9.45299625e-01],\n",
       "       [9.51660335e-01],\n",
       "       [4.80045438e-01],\n",
       "       [9.99835074e-01],\n",
       "       [9.79410112e-01],\n",
       "       [3.66246700e-02],\n",
       "       [9.52106714e-03],\n",
       "       [9.79433954e-01],\n",
       "       [7.41368532e-03],\n",
       "       [9.98599052e-01],\n",
       "       [7.11841881e-02],\n",
       "       [9.86606538e-01],\n",
       "       [9.24563468e-01],\n",
       "       [4.77081537e-03],\n",
       "       [9.79650855e-01],\n",
       "       [8.56807232e-01],\n",
       "       [5.81630170e-01],\n",
       "       [4.77960795e-01],\n",
       "       [3.11926007e-03],\n",
       "       [3.35784853e-02],\n",
       "       [1.06352448e-01],\n",
       "       [6.43021405e-01],\n",
       "       [9.69193697e-01],\n",
       "       [7.86453962e-01],\n",
       "       [2.55137638e-06],\n",
       "       [3.55462134e-02],\n",
       "       [9.19340491e-01],\n",
       "       [9.11791146e-01],\n",
       "       [1.01585807e-04],\n",
       "       [3.58512342e-01],\n",
       "       [9.04053092e-01],\n",
       "       [6.11785054e-03],\n",
       "       [8.12020957e-01],\n",
       "       [2.22821534e-02],\n",
       "       [5.97691655e-01],\n",
       "       [9.95042801e-01],\n",
       "       [9.99009609e-01],\n",
       "       [9.06487882e-01],\n",
       "       [9.80245113e-01],\n",
       "       [8.44465494e-01],\n",
       "       [9.08063173e-01],\n",
       "       [9.94079053e-01],\n",
       "       [1.47480965e-02],\n",
       "       [9.87689435e-01],\n",
       "       [9.82772112e-01],\n",
       "       [3.39781642e-02],\n",
       "       [1.35913491e-03],\n",
       "       [8.27507138e-01],\n",
       "       [2.88304687e-03],\n",
       "       [6.20973110e-01],\n",
       "       [9.91477013e-01],\n",
       "       [2.08287537e-02],\n",
       "       [1.08485818e-02],\n",
       "       [8.79228711e-01],\n",
       "       [7.44318902e-01],\n",
       "       [9.48462486e-01],\n",
       "       [8.57277274e-01],\n",
       "       [9.85660791e-01],\n",
       "       [9.74761724e-01],\n",
       "       [9.94488358e-01],\n",
       "       [2.44987011e-03],\n",
       "       [9.98131275e-01],\n",
       "       [9.87741113e-01],\n",
       "       [8.81090283e-01],\n",
       "       [4.87433821e-01],\n",
       "       [9.98919129e-01],\n",
       "       [1.64939761e-02],\n",
       "       [8.67841721e-01],\n",
       "       [9.73844230e-01],\n",
       "       [9.37505901e-01],\n",
       "       [9.77238178e-01],\n",
       "       [2.56168842e-03],\n",
       "       [9.80992198e-01],\n",
       "       [1.97142399e-05],\n",
       "       [9.33358192e-01],\n",
       "       [8.13475966e-01],\n",
       "       [8.45158994e-01],\n",
       "       [1.25914812e-04],\n",
       "       [9.65926647e-01],\n",
       "       [9.34288979e-01],\n",
       "       [9.95043516e-01],\n",
       "       [9.70330477e-01],\n",
       "       [1.70031130e-01],\n",
       "       [9.92595673e-01],\n",
       "       [7.94539928e-01],\n",
       "       [8.26689184e-01],\n",
       "       [9.86147881e-01],\n",
       "       [3.65502536e-02],\n",
       "       [9.04597342e-01],\n",
       "       [1.87944561e-01],\n",
       "       [6.03860617e-03],\n",
       "       [9.59092975e-01],\n",
       "       [8.95873308e-01],\n",
       "       [9.69497204e-01],\n",
       "       [9.88299608e-01],\n",
       "       [9.74680305e-01],\n",
       "       [8.98380458e-01],\n",
       "       [4.38937873e-01],\n",
       "       [1.57654285e-03],\n",
       "       [1.06547341e-04],\n",
       "       [9.96648967e-01],\n",
       "       [9.75060463e-01],\n",
       "       [9.75111961e-01],\n",
       "       [8.55921149e-01],\n",
       "       [9.90118921e-01],\n",
       "       [6.72633648e-02],\n",
       "       [9.98532653e-01],\n",
       "       [9.99239266e-01],\n",
       "       [9.74311471e-01],\n",
       "       [7.02551126e-01],\n",
       "       [9.91421461e-01],\n",
       "       [9.86981511e-01],\n",
       "       [9.87550735e-01],\n",
       "       [7.97371507e-01],\n",
       "       [4.74840403e-04],\n",
       "       [2.62447000e-02],\n",
       "       [9.75610614e-01],\n",
       "       [9.98516440e-01],\n",
       "       [9.64517355e-01],\n",
       "       [1.98002845e-01],\n",
       "       [7.89374113e-04],\n",
       "       [2.56741047e-02],\n",
       "       [4.64265347e-02],\n",
       "       [9.96683478e-01],\n",
       "       [9.17406559e-01],\n",
       "       [2.54140496e-02],\n",
       "       [9.73848581e-01],\n",
       "       [1.03405118e-03],\n",
       "       [9.76041853e-01],\n",
       "       [9.33921933e-01],\n",
       "       [9.93678629e-01],\n",
       "       [8.93968582e-01],\n",
       "       [9.79553342e-01],\n",
       "       [9.91681337e-01],\n",
       "       [6.81856573e-02],\n",
       "       [9.92888212e-01],\n",
       "       [9.91878271e-01],\n",
       "       [1.53213739e-04],\n",
       "       [1.64759159e-03],\n",
       "       [5.48203502e-07],\n",
       "       [5.59929311e-02],\n",
       "       [8.42635512e-01],\n",
       "       [9.55156088e-01],\n",
       "       [9.18946385e-01],\n",
       "       [9.74787533e-01],\n",
       "       [5.79027474e-01],\n",
       "       [6.72855556e-01],\n",
       "       [9.54471231e-01],\n",
       "       [9.88771141e-01],\n",
       "       [9.95358407e-01],\n",
       "       [9.83487010e-01],\n",
       "       [1.21834874e-03],\n",
       "       [9.24186945e-01],\n",
       "       [9.30960357e-01],\n",
       "       [2.23201632e-01],\n",
       "       [9.71887589e-01],\n",
       "       [9.98247743e-01],\n",
       "       [9.89528894e-01],\n",
       "       [1.56940907e-01],\n",
       "       [9.56815600e-01],\n",
       "       [8.12491238e-01],\n",
       "       [9.85935330e-01],\n",
       "       [9.90059555e-01],\n",
       "       [9.98031497e-01],\n",
       "       [9.73216057e-01],\n",
       "       [1.11758500e-01],\n",
       "       [9.92118835e-01],\n",
       "       [1.38863921e-02],\n",
       "       [9.76277530e-01],\n",
       "       [7.56969988e-01],\n",
       "       [1.48266554e-03],\n",
       "       [9.92010117e-01],\n",
       "       [1.22215122e-01],\n",
       "       [2.66527236e-02]], dtype=float32)"
      ]
     },
     "execution_count": 83,
     "metadata": {},
     "output_type": "execute_result"
    }
   ],
   "source": [
    "Y_pred"
   ]
  },
  {
   "cell_type": "code",
   "execution_count": 84,
   "id": "3304d41b",
   "metadata": {},
   "outputs": [],
   "source": [
    "y_pred=np.round(Y_pred)"
   ]
  },
  {
   "cell_type": "code",
   "execution_count": 85,
   "id": "80e9f9fb",
   "metadata": {},
   "outputs": [
    {
     "data": {
      "text/plain": [
       "array([[1.],\n",
       "       [0.],\n",
       "       [0.],\n",
       "       [0.],\n",
       "       [1.],\n",
       "       [1.],\n",
       "       [0.],\n",
       "       [1.],\n",
       "       [1.],\n",
       "       [1.],\n",
       "       [1.],\n",
       "       [1.],\n",
       "       [0.],\n",
       "       [1.],\n",
       "       [1.],\n",
       "       [1.],\n",
       "       [0.],\n",
       "       [1.],\n",
       "       [1.],\n",
       "       [0.],\n",
       "       [0.],\n",
       "       [1.],\n",
       "       [0.],\n",
       "       [1.],\n",
       "       [0.],\n",
       "       [1.],\n",
       "       [1.],\n",
       "       [0.],\n",
       "       [1.],\n",
       "       [1.],\n",
       "       [1.],\n",
       "       [0.],\n",
       "       [0.],\n",
       "       [0.],\n",
       "       [0.],\n",
       "       [1.],\n",
       "       [1.],\n",
       "       [1.],\n",
       "       [0.],\n",
       "       [0.],\n",
       "       [1.],\n",
       "       [1.],\n",
       "       [0.],\n",
       "       [0.],\n",
       "       [1.],\n",
       "       [0.],\n",
       "       [1.],\n",
       "       [0.],\n",
       "       [1.],\n",
       "       [1.],\n",
       "       [1.],\n",
       "       [1.],\n",
       "       [1.],\n",
       "       [1.],\n",
       "       [1.],\n",
       "       [1.],\n",
       "       [0.],\n",
       "       [1.],\n",
       "       [1.],\n",
       "       [0.],\n",
       "       [0.],\n",
       "       [1.],\n",
       "       [0.],\n",
       "       [1.],\n",
       "       [1.],\n",
       "       [0.],\n",
       "       [0.],\n",
       "       [1.],\n",
       "       [1.],\n",
       "       [1.],\n",
       "       [1.],\n",
       "       [1.],\n",
       "       [1.],\n",
       "       [1.],\n",
       "       [0.],\n",
       "       [1.],\n",
       "       [1.],\n",
       "       [1.],\n",
       "       [0.],\n",
       "       [1.],\n",
       "       [0.],\n",
       "       [1.],\n",
       "       [1.],\n",
       "       [1.],\n",
       "       [1.],\n",
       "       [0.],\n",
       "       [1.],\n",
       "       [0.],\n",
       "       [1.],\n",
       "       [1.],\n",
       "       [1.],\n",
       "       [0.],\n",
       "       [1.],\n",
       "       [1.],\n",
       "       [1.],\n",
       "       [1.],\n",
       "       [0.],\n",
       "       [1.],\n",
       "       [1.],\n",
       "       [1.],\n",
       "       [1.],\n",
       "       [0.],\n",
       "       [1.],\n",
       "       [0.],\n",
       "       [0.],\n",
       "       [1.],\n",
       "       [1.],\n",
       "       [1.],\n",
       "       [1.],\n",
       "       [1.],\n",
       "       [1.],\n",
       "       [0.],\n",
       "       [0.],\n",
       "       [0.],\n",
       "       [1.],\n",
       "       [1.],\n",
       "       [1.],\n",
       "       [1.],\n",
       "       [1.],\n",
       "       [0.],\n",
       "       [1.],\n",
       "       [1.],\n",
       "       [1.],\n",
       "       [1.],\n",
       "       [1.],\n",
       "       [1.],\n",
       "       [1.],\n",
       "       [1.],\n",
       "       [0.],\n",
       "       [0.],\n",
       "       [1.],\n",
       "       [1.],\n",
       "       [1.],\n",
       "       [0.],\n",
       "       [0.],\n",
       "       [0.],\n",
       "       [0.],\n",
       "       [1.],\n",
       "       [1.],\n",
       "       [0.],\n",
       "       [1.],\n",
       "       [0.],\n",
       "       [1.],\n",
       "       [1.],\n",
       "       [1.],\n",
       "       [1.],\n",
       "       [1.],\n",
       "       [1.],\n",
       "       [0.],\n",
       "       [1.],\n",
       "       [1.],\n",
       "       [0.],\n",
       "       [0.],\n",
       "       [0.],\n",
       "       [0.],\n",
       "       [1.],\n",
       "       [1.],\n",
       "       [1.],\n",
       "       [1.],\n",
       "       [1.],\n",
       "       [1.],\n",
       "       [1.],\n",
       "       [1.],\n",
       "       [1.],\n",
       "       [1.],\n",
       "       [0.],\n",
       "       [1.],\n",
       "       [1.],\n",
       "       [0.],\n",
       "       [1.],\n",
       "       [1.],\n",
       "       [1.],\n",
       "       [0.],\n",
       "       [1.],\n",
       "       [1.],\n",
       "       [1.],\n",
       "       [1.],\n",
       "       [1.],\n",
       "       [1.],\n",
       "       [0.],\n",
       "       [1.],\n",
       "       [0.],\n",
       "       [1.],\n",
       "       [1.],\n",
       "       [0.],\n",
       "       [1.],\n",
       "       [0.],\n",
       "       [0.]], dtype=float32)"
      ]
     },
     "execution_count": 85,
     "metadata": {},
     "output_type": "execute_result"
    }
   ],
   "source": [
    "y_pred"
   ]
  },
  {
   "cell_type": "code",
   "execution_count": 86,
   "id": "8e510600",
   "metadata": {},
   "outputs": [
    {
     "name": "stdout",
     "output_type": "stream",
     "text": [
      "manually calculate accuracy 0.5561339972838388\n"
     ]
    }
   ],
   "source": [
    "print(\"manually calculate accuracy\",np.mean(y_pred==Y_test))"
   ]
  },
  {
   "cell_type": "code",
   "execution_count": 87,
   "id": "9a318789",
   "metadata": {},
   "outputs": [
    {
     "name": "stdout",
     "output_type": "stream",
     "text": [
      "6/6 [==============================] - 0s 8ms/step - loss: 0.1129 - accuracy: 0.9734\n",
      "Evaluate Output [0.1129073053598404, 0.9734042286872864]\n"
     ]
    }
   ],
   "source": [
    "print(\"Evaluate Output\",model.evaluate(X_test,Y_test))"
   ]
  },
  {
   "cell_type": "code",
   "execution_count": 88,
   "id": "5d464df0",
   "metadata": {},
   "outputs": [],
   "source": [
    "#Saving and loading a model"
   ]
  },
  {
   "cell_type": "code",
   "execution_count": 89,
   "id": "cd1470fc",
   "metadata": {},
   "outputs": [
    {
     "name": "stdout",
     "output_type": "stream",
     "text": [
      "INFO:tensorflow:Assets written to: Linear Classifier\\assets\n"
     ]
    }
   ],
   "source": [
    "model.save(\"Linear Classifier\")"
   ]
  },
  {
   "cell_type": "code",
   "execution_count": null,
   "id": "fdb88504",
   "metadata": {},
   "outputs": [],
   "source": []
  }
 ],
 "metadata": {
  "kernelspec": {
   "display_name": "Python 3 (ipykernel)",
   "language": "python",
   "name": "python3"
  },
  "language_info": {
   "codemirror_mode": {
    "name": "ipython",
    "version": 3
   },
   "file_extension": ".py",
   "mimetype": "text/x-python",
   "name": "python",
   "nbconvert_exporter": "python",
   "pygments_lexer": "ipython3",
   "version": "3.9.6"
  }
 },
 "nbformat": 4,
 "nbformat_minor": 5
}
